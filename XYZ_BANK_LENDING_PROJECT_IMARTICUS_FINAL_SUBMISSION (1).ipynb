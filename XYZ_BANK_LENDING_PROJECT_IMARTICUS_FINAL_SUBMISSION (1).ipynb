{
 "cells": [
  {
   "cell_type": "markdown",
   "metadata": {},
   "source": [
    "# 1.Importing Essential Packages\n",
    "\n"
   ]
  },
  {
   "cell_type": "code",
   "execution_count": 9,
   "metadata": {},
   "outputs": [],
   "source": [
    "import pandas as pd\n",
    "from matplotlib import pyplot as plt\n",
    "import seaborn as sns\n",
    "import numpy as np\n",
    "import missingno as msno\n",
    "from sklearn.impute import SimpleImputer\n",
    "from sklearn.feature_selection import VarianceThreshold\n",
    "from sklearn.impute import KNNImputer\n",
    "from fancyimpute import KNN \n",
    "from sklearn.preprocessing import OrdinalEncoder\n",
    "from sklearn.neighbors import KNeighborsClassifier\n",
    "from sklearn.impute import KNNImputer\n",
    "pd.set_option('display.float_format', lambda x: '%.3f' % x)\n",
    "from scipy import stats\n",
    "from sklearn.model_selection import train_test_split\n",
    "from sklearn.preprocessing import MinMaxScaler\n",
    "from sklearn import preprocessing\n",
    "from sklearn.neighbors import KNeighborsClassifier\n",
    "from sklearn.metrics import classification_report, confusion_matrix\n",
    "from sklearn.linear_model import LogisticRegression\n",
    "from sklearn.metrics import accuracy_score, confusion_matrix, roc_curve, roc_auc_score\n",
    "from sklearn.model_selection import cross_val_score\n",
    "from sklearn import svm\n",
    "from sklearn.pipeline import make_pipeline\n",
    "from sklearn.svm import SVC\n",
    "from sklearn.preprocessing import StandardScaler\n",
    "from sklearn.datasets import make_classification\n",
    "from sklearn.model_selection import RepeatedKFold\n",
    "from sklearn.linear_model import LogisticRegression\n",
    "from sklearn import metrics\n",
    "from sklearn.tree import DecisionTreeClassifier\n",
    "from sklearn.metrics import f1_score\n",
    "from sklearn.metrics import precision_score\n",
    "from sklearn.metrics import roc_auc_score\n",
    "\n",
    "#pandas option to display rows \n",
    "pd.set_option('display.max_rows', 10000)\n",
    "\n",
    "%matplotlib inline\n",
    "\n"
   ]
  },
  {
   "cell_type": "markdown",
   "metadata": {},
   "source": [
    "# 2. Importing Data Set"
   ]
  },
  {
   "cell_type": "code",
   "execution_count": 31,
   "metadata": {},
   "outputs": [
    {
     "name": "stderr",
     "output_type": "stream",
     "text": [
      "c:\\users\\jason dias\\appdata\\local\\programs\\python\\python38\\lib\\site-packages\\IPython\\core\\interactiveshell.py:3145: DtypeWarning: Columns (17,45,53) have mixed types.Specify dtype option on import or set low_memory=False.\n",
      "  has_raised = await self.run_ast_nodes(code_ast.body, cell_name,\n"
     ]
    }
   ],
   "source": [
    "df = pd.read_csv(\"J:\\Python project\\Python Project - Bank Lending\\XYZCorp_LendingData.txt\", delimiter = '\\t', skipinitialspace=True)"
   ]
  },
  {
   "cell_type": "markdown",
   "metadata": {},
   "source": [
    "**2.1 Macro Look of the entire dataset and the dimensions**"
   ]
  },
  {
   "cell_type": "code",
   "execution_count": 32,
   "metadata": {},
   "outputs": [
    {
     "name": "stdout",
     "output_type": "stream",
     "text": [
      "<class 'pandas.core.frame.DataFrame'>\n",
      "RangeIndex: 855969 entries, 0 to 855968\n",
      "Data columns (total 73 columns):\n",
      " #   Column                       Non-Null Count   Dtype  \n",
      "---  ------                       --------------   -----  \n",
      " 0   id                           855969 non-null  int64  \n",
      " 1   member_id                    855969 non-null  int64  \n",
      " 2   loan_amnt                    855969 non-null  float64\n",
      " 3   funded_amnt                  855969 non-null  float64\n",
      " 4   funded_amnt_inv              855969 non-null  float64\n",
      " 5   term                         855969 non-null  object \n",
      " 6   int_rate                     855969 non-null  float64\n",
      " 7   installment                  855969 non-null  float64\n",
      " 8   grade                        855969 non-null  object \n",
      " 9   sub_grade                    855969 non-null  object \n",
      " 10  emp_title                    806526 non-null  object \n",
      " 11  emp_length                   812908 non-null  object \n",
      " 12  home_ownership               855969 non-null  object \n",
      " 13  annual_inc                   855969 non-null  float64\n",
      " 14  verification_status          855969 non-null  object \n",
      " 15  issue_d                      855969 non-null  object \n",
      " 16  pymnt_plan                   855969 non-null  object \n",
      " 17  desc                         121580 non-null  object \n",
      " 18  purpose                      855969 non-null  object \n",
      " 19  title                        855936 non-null  object \n",
      " 20  zip_code                     855969 non-null  object \n",
      " 21  addr_state                   855969 non-null  object \n",
      " 22  dti                          855969 non-null  float64\n",
      " 23  delinq_2yrs                  855969 non-null  float64\n",
      " 24  earliest_cr_line             855969 non-null  object \n",
      " 25  inq_last_6mths               855969 non-null  float64\n",
      " 26  mths_since_last_delinq       416157 non-null  float64\n",
      " 27  mths_since_last_record       131184 non-null  float64\n",
      " 28  open_acc                     855969 non-null  float64\n",
      " 29  pub_rec                      855969 non-null  float64\n",
      " 30  revol_bal                    855969 non-null  float64\n",
      " 31  revol_util                   855523 non-null  float64\n",
      " 32  total_acc                    855969 non-null  float64\n",
      " 33  initial_list_status          855969 non-null  object \n",
      " 34  out_prncp                    855969 non-null  float64\n",
      " 35  out_prncp_inv                855969 non-null  float64\n",
      " 36  total_pymnt                  855969 non-null  float64\n",
      " 37  total_pymnt_inv              855969 non-null  float64\n",
      " 38  total_rec_prncp              855969 non-null  float64\n",
      " 39  total_rec_int                855969 non-null  float64\n",
      " 40  total_rec_late_fee           855969 non-null  float64\n",
      " 41  recoveries                   855969 non-null  float64\n",
      " 42  collection_recovery_fee      855969 non-null  float64\n",
      " 43  last_pymnt_d                 847107 non-null  object \n",
      " 44  last_pymnt_amnt              855969 non-null  float64\n",
      " 45  next_pymnt_d                 602998 non-null  object \n",
      " 46  last_credit_pull_d           855919 non-null  object \n",
      " 47  collections_12_mths_ex_med   855913 non-null  float64\n",
      " 48  mths_since_last_major_derog  213139 non-null  float64\n",
      " 49  policy_code                  855969 non-null  float64\n",
      " 50  application_type             855969 non-null  object \n",
      " 51  annual_inc_joint             442 non-null     float64\n",
      " 52  dti_joint                    440 non-null     float64\n",
      " 53  verification_status_joint    442 non-null     object \n",
      " 54  acc_now_delinq               855969 non-null  float64\n",
      " 55  tot_coll_amt                 788656 non-null  float64\n",
      " 56  tot_cur_bal                  788656 non-null  float64\n",
      " 57  open_acc_6m                  13288 non-null   float64\n",
      " 58  open_il_6m                   13288 non-null   float64\n",
      " 59  open_il_12m                  13288 non-null   float64\n",
      " 60  open_il_24m                  13288 non-null   float64\n",
      " 61  mths_since_rcnt_il           12934 non-null   float64\n",
      " 62  total_bal_il                 13288 non-null   float64\n",
      " 63  il_util                      11609 non-null   float64\n",
      " 64  open_rv_12m                  13288 non-null   float64\n",
      " 65  open_rv_24m                  13288 non-null   float64\n",
      " 66  max_bal_bc                   13288 non-null   float64\n",
      " 67  all_util                     13288 non-null   float64\n",
      " 68  total_rev_hi_lim             788656 non-null  float64\n",
      " 69  inq_fi                       13288 non-null   float64\n",
      " 70  total_cu_tl                  13288 non-null   float64\n",
      " 71  inq_last_12m                 13288 non-null   float64\n",
      " 72  default_ind                  855969 non-null  int64  \n",
      "dtypes: float64(49), int64(3), object(21)\n",
      "memory usage: 476.7+ MB\n"
     ]
    },
    {
     "data": {
      "text/html": [
       "<div>\n",
       "<style scoped>\n",
       "    .dataframe tbody tr th:only-of-type {\n",
       "        vertical-align: middle;\n",
       "    }\n",
       "\n",
       "    .dataframe tbody tr th {\n",
       "        vertical-align: top;\n",
       "    }\n",
       "\n",
       "    .dataframe thead th {\n",
       "        text-align: right;\n",
       "    }\n",
       "</style>\n",
       "<table border=\"1\" class=\"dataframe\">\n",
       "  <thead>\n",
       "    <tr style=\"text-align: right;\">\n",
       "      <th></th>\n",
       "      <th>id</th>\n",
       "      <th>member_id</th>\n",
       "      <th>loan_amnt</th>\n",
       "      <th>funded_amnt</th>\n",
       "      <th>funded_amnt_inv</th>\n",
       "      <th>int_rate</th>\n",
       "      <th>installment</th>\n",
       "      <th>annual_inc</th>\n",
       "      <th>dti</th>\n",
       "      <th>delinq_2yrs</th>\n",
       "      <th>...</th>\n",
       "      <th>il_util</th>\n",
       "      <th>open_rv_12m</th>\n",
       "      <th>open_rv_24m</th>\n",
       "      <th>max_bal_bc</th>\n",
       "      <th>all_util</th>\n",
       "      <th>total_rev_hi_lim</th>\n",
       "      <th>inq_fi</th>\n",
       "      <th>total_cu_tl</th>\n",
       "      <th>inq_last_12m</th>\n",
       "      <th>default_ind</th>\n",
       "    </tr>\n",
       "  </thead>\n",
       "  <tbody>\n",
       "    <tr>\n",
       "      <th>count</th>\n",
       "      <td>855969.000</td>\n",
       "      <td>855969.000</td>\n",
       "      <td>855969.000</td>\n",
       "      <td>855969.000</td>\n",
       "      <td>855969.000</td>\n",
       "      <td>855969.000</td>\n",
       "      <td>855969.000</td>\n",
       "      <td>855969.000</td>\n",
       "      <td>855969.000</td>\n",
       "      <td>855969.000</td>\n",
       "      <td>...</td>\n",
       "      <td>11609.000</td>\n",
       "      <td>13288.000</td>\n",
       "      <td>13288.000</td>\n",
       "      <td>13288.000</td>\n",
       "      <td>13288.000</td>\n",
       "      <td>788656.000</td>\n",
       "      <td>13288.000</td>\n",
       "      <td>13288.000</td>\n",
       "      <td>13288.000</td>\n",
       "      <td>855969.000</td>\n",
       "    </tr>\n",
       "    <tr>\n",
       "      <th>mean</th>\n",
       "      <td>32240726.286</td>\n",
       "      <td>34762690.042</td>\n",
       "      <td>14745.571</td>\n",
       "      <td>14732.378</td>\n",
       "      <td>14700.061</td>\n",
       "      <td>13.192</td>\n",
       "      <td>436.238</td>\n",
       "      <td>75071.186</td>\n",
       "      <td>18.122</td>\n",
       "      <td>0.312</td>\n",
       "      <td>...</td>\n",
       "      <td>71.487</td>\n",
       "      <td>1.354</td>\n",
       "      <td>2.946</td>\n",
       "      <td>5840.443</td>\n",
       "      <td>61.025</td>\n",
       "      <td>32163.575</td>\n",
       "      <td>0.948</td>\n",
       "      <td>1.524</td>\n",
       "      <td>1.842</td>\n",
       "      <td>0.054</td>\n",
       "    </tr>\n",
       "    <tr>\n",
       "      <th>std</th>\n",
       "      <td>22719691.566</td>\n",
       "      <td>23994176.797</td>\n",
       "      <td>8425.340</td>\n",
       "      <td>8419.472</td>\n",
       "      <td>8425.805</td>\n",
       "      <td>4.368</td>\n",
       "      <td>243.727</td>\n",
       "      <td>64264.470</td>\n",
       "      <td>17.424</td>\n",
       "      <td>0.857</td>\n",
       "      <td>...</td>\n",
       "      <td>23.015</td>\n",
       "      <td>1.484</td>\n",
       "      <td>2.595</td>\n",
       "      <td>5108.500</td>\n",
       "      <td>20.018</td>\n",
       "      <td>37699.638</td>\n",
       "      <td>1.442</td>\n",
       "      <td>2.698</td>\n",
       "      <td>2.975</td>\n",
       "      <td>0.227</td>\n",
       "    </tr>\n",
       "    <tr>\n",
       "      <th>min</th>\n",
       "      <td>54734.000</td>\n",
       "      <td>70699.000</td>\n",
       "      <td>500.000</td>\n",
       "      <td>500.000</td>\n",
       "      <td>0.000</td>\n",
       "      <td>5.320</td>\n",
       "      <td>15.690</td>\n",
       "      <td>0.000</td>\n",
       "      <td>0.000</td>\n",
       "      <td>0.000</td>\n",
       "      <td>...</td>\n",
       "      <td>0.000</td>\n",
       "      <td>0.000</td>\n",
       "      <td>0.000</td>\n",
       "      <td>0.000</td>\n",
       "      <td>0.000</td>\n",
       "      <td>0.000</td>\n",
       "      <td>0.000</td>\n",
       "      <td>0.000</td>\n",
       "      <td>-4.000</td>\n",
       "      <td>0.000</td>\n",
       "    </tr>\n",
       "    <tr>\n",
       "      <th>25%</th>\n",
       "      <td>9067986.000</td>\n",
       "      <td>10792732.000</td>\n",
       "      <td>8000.000</td>\n",
       "      <td>8000.000</td>\n",
       "      <td>8000.000</td>\n",
       "      <td>9.990</td>\n",
       "      <td>260.550</td>\n",
       "      <td>45000.000</td>\n",
       "      <td>11.880</td>\n",
       "      <td>0.000</td>\n",
       "      <td>...</td>\n",
       "      <td>58.500</td>\n",
       "      <td>0.000</td>\n",
       "      <td>1.000</td>\n",
       "      <td>2405.000</td>\n",
       "      <td>47.900</td>\n",
       "      <td>14000.000</td>\n",
       "      <td>0.000</td>\n",
       "      <td>0.000</td>\n",
       "      <td>0.000</td>\n",
       "      <td>0.000</td>\n",
       "    </tr>\n",
       "    <tr>\n",
       "      <th>50%</th>\n",
       "      <td>34313546.000</td>\n",
       "      <td>36975319.000</td>\n",
       "      <td>13000.000</td>\n",
       "      <td>13000.000</td>\n",
       "      <td>13000.000</td>\n",
       "      <td>12.990</td>\n",
       "      <td>382.550</td>\n",
       "      <td>65000.000</td>\n",
       "      <td>17.610</td>\n",
       "      <td>0.000</td>\n",
       "      <td>...</td>\n",
       "      <td>75.000</td>\n",
       "      <td>1.000</td>\n",
       "      <td>2.000</td>\n",
       "      <td>4485.500</td>\n",
       "      <td>62.100</td>\n",
       "      <td>23800.000</td>\n",
       "      <td>0.000</td>\n",
       "      <td>0.000</td>\n",
       "      <td>2.000</td>\n",
       "      <td>0.000</td>\n",
       "    </tr>\n",
       "    <tr>\n",
       "      <th>75%</th>\n",
       "      <td>54463114.000</td>\n",
       "      <td>58035586.000</td>\n",
       "      <td>20000.000</td>\n",
       "      <td>20000.000</td>\n",
       "      <td>20000.000</td>\n",
       "      <td>15.990</td>\n",
       "      <td>571.560</td>\n",
       "      <td>90000.000</td>\n",
       "      <td>23.900</td>\n",
       "      <td>0.000</td>\n",
       "      <td>...</td>\n",
       "      <td>87.500</td>\n",
       "      <td>2.000</td>\n",
       "      <td>4.000</td>\n",
       "      <td>7701.250</td>\n",
       "      <td>75.300</td>\n",
       "      <td>39900.000</td>\n",
       "      <td>1.000</td>\n",
       "      <td>2.000</td>\n",
       "      <td>3.000</td>\n",
       "      <td>0.000</td>\n",
       "    </tr>\n",
       "    <tr>\n",
       "      <th>max</th>\n",
       "      <td>68616867.000</td>\n",
       "      <td>73519693.000</td>\n",
       "      <td>35000.000</td>\n",
       "      <td>35000.000</td>\n",
       "      <td>35000.000</td>\n",
       "      <td>28.990</td>\n",
       "      <td>1445.460</td>\n",
       "      <td>9500000.000</td>\n",
       "      <td>9999.000</td>\n",
       "      <td>39.000</td>\n",
       "      <td>...</td>\n",
       "      <td>223.300</td>\n",
       "      <td>22.000</td>\n",
       "      <td>43.000</td>\n",
       "      <td>83047.000</td>\n",
       "      <td>151.400</td>\n",
       "      <td>9999999.000</td>\n",
       "      <td>15.000</td>\n",
       "      <td>33.000</td>\n",
       "      <td>32.000</td>\n",
       "      <td>1.000</td>\n",
       "    </tr>\n",
       "  </tbody>\n",
       "</table>\n",
       "<p>8 rows × 52 columns</p>\n",
       "</div>"
      ],
      "text/plain": [
       "                id    member_id  loan_amnt  funded_amnt  funded_amnt_inv  \\\n",
       "count   855969.000   855969.000 855969.000   855969.000       855969.000   \n",
       "mean  32240726.286 34762690.042  14745.571    14732.378        14700.061   \n",
       "std   22719691.566 23994176.797   8425.340     8419.472         8425.805   \n",
       "min      54734.000    70699.000    500.000      500.000            0.000   \n",
       "25%    9067986.000 10792732.000   8000.000     8000.000         8000.000   \n",
       "50%   34313546.000 36975319.000  13000.000    13000.000        13000.000   \n",
       "75%   54463114.000 58035586.000  20000.000    20000.000        20000.000   \n",
       "max   68616867.000 73519693.000  35000.000    35000.000        35000.000   \n",
       "\n",
       "        int_rate  installment  annual_inc        dti  delinq_2yrs  ...  \\\n",
       "count 855969.000   855969.000  855969.000 855969.000   855969.000  ...   \n",
       "mean      13.192      436.238   75071.186     18.122        0.312  ...   \n",
       "std        4.368      243.727   64264.470     17.424        0.857  ...   \n",
       "min        5.320       15.690       0.000      0.000        0.000  ...   \n",
       "25%        9.990      260.550   45000.000     11.880        0.000  ...   \n",
       "50%       12.990      382.550   65000.000     17.610        0.000  ...   \n",
       "75%       15.990      571.560   90000.000     23.900        0.000  ...   \n",
       "max       28.990     1445.460 9500000.000   9999.000       39.000  ...   \n",
       "\n",
       "        il_util  open_rv_12m  open_rv_24m  max_bal_bc  all_util  \\\n",
       "count 11609.000    13288.000    13288.000   13288.000 13288.000   \n",
       "mean     71.487        1.354        2.946    5840.443    61.025   \n",
       "std      23.015        1.484        2.595    5108.500    20.018   \n",
       "min       0.000        0.000        0.000       0.000     0.000   \n",
       "25%      58.500        0.000        1.000    2405.000    47.900   \n",
       "50%      75.000        1.000        2.000    4485.500    62.100   \n",
       "75%      87.500        2.000        4.000    7701.250    75.300   \n",
       "max     223.300       22.000       43.000   83047.000   151.400   \n",
       "\n",
       "       total_rev_hi_lim    inq_fi  total_cu_tl  inq_last_12m  default_ind  \n",
       "count        788656.000 13288.000    13288.000     13288.000   855969.000  \n",
       "mean          32163.575     0.948        1.524         1.842        0.054  \n",
       "std           37699.638     1.442        2.698         2.975        0.227  \n",
       "min               0.000     0.000        0.000        -4.000        0.000  \n",
       "25%           14000.000     0.000        0.000         0.000        0.000  \n",
       "50%           23800.000     0.000        0.000         2.000        0.000  \n",
       "75%           39900.000     1.000        2.000         3.000        0.000  \n",
       "max         9999999.000    15.000       33.000        32.000        1.000  \n",
       "\n",
       "[8 rows x 52 columns]"
      ]
     },
     "execution_count": 32,
     "metadata": {},
     "output_type": "execute_result"
    }
   ],
   "source": [
    "df.info()\n",
    "df.describe()"
   ]
  },
  {
   "cell_type": "markdown",
   "metadata": {},
   "source": [
    "**2.1.2 Splitting data into numeric and non_numeric features for easy identification**"
   ]
  },
  {
   "cell_type": "code",
   "execution_count": 33,
   "metadata": {},
   "outputs": [
    {
     "name": "stdout",
     "output_type": "stream",
     "text": [
      "        id  member_id  loan_amnt  funded_amnt  funded_amnt_inv  int_rate  \\\n",
      "0  1077501    1296599   5000.000     5000.000         4975.000    10.650   \n",
      "1  1077430    1314167   2500.000     2500.000         2500.000    15.270   \n",
      "2  1077175    1313524   2400.000     2400.000         2400.000    15.960   \n",
      "3  1076863    1277178  10000.000    10000.000        10000.000    13.490   \n",
      "4  1075358    1311748   3000.000     3000.000         3000.000    12.690   \n",
      "5  1075269    1311441   5000.000     5000.000         5000.000     7.900   \n",
      "6  1069639    1304742   7000.000     7000.000         7000.000    15.960   \n",
      "7  1072053    1288686   3000.000     3000.000         3000.000    18.640   \n",
      "8  1071795    1306957   5600.000     5600.000         5600.000    21.280   \n",
      "9  1071570    1306721   5375.000     5375.000         5350.000    12.690   \n",
      "\n",
      "   installment  annual_inc    dti  delinq_2yrs  ...  il_util  open_rv_12m  \\\n",
      "0      162.870   24000.000 27.650        0.000  ...      nan          nan   \n",
      "1       59.830   30000.000  1.000        0.000  ...      nan          nan   \n",
      "2       84.330   12252.000  8.720        0.000  ...      nan          nan   \n",
      "3      339.310   49200.000 20.000        0.000  ...      nan          nan   \n",
      "4       67.790   80000.000 17.940        0.000  ...      nan          nan   \n",
      "5      156.460   36000.000 11.200        0.000  ...      nan          nan   \n",
      "6      170.080   47004.000 23.510        0.000  ...      nan          nan   \n",
      "7      109.430   48000.000  5.350        0.000  ...      nan          nan   \n",
      "8      152.390   40000.000  5.550        0.000  ...      nan          nan   \n",
      "9      121.450   15000.000 18.080        0.000  ...      nan          nan   \n",
      "\n",
      "   open_rv_24m  max_bal_bc  all_util  total_rev_hi_lim  inq_fi  total_cu_tl  \\\n",
      "0          nan         nan       nan               nan     nan          nan   \n",
      "1          nan         nan       nan               nan     nan          nan   \n",
      "2          nan         nan       nan               nan     nan          nan   \n",
      "3          nan         nan       nan               nan     nan          nan   \n",
      "4          nan         nan       nan               nan     nan          nan   \n",
      "5          nan         nan       nan               nan     nan          nan   \n",
      "6          nan         nan       nan               nan     nan          nan   \n",
      "7          nan         nan       nan               nan     nan          nan   \n",
      "8          nan         nan       nan               nan     nan          nan   \n",
      "9          nan         nan       nan               nan     nan          nan   \n",
      "\n",
      "   inq_last_12m  default_ind  \n",
      "0           nan            0  \n",
      "1           nan            1  \n",
      "2           nan            0  \n",
      "3           nan            0  \n",
      "4           nan            0  \n",
      "5           nan            0  \n",
      "6           nan            0  \n",
      "7           nan            0  \n",
      "8           nan            1  \n",
      "9           nan            1  \n",
      "\n",
      "[10 rows x 52 columns]\n",
      "        term grade sub_grade                  emp_title emp_length  \\\n",
      "0  36 months     B        B2                        NaN  10+ years   \n",
      "1  60 months     C        C4                      Ryder   < 1 year   \n",
      "2  36 months     C        C5                        NaN  10+ years   \n",
      "3  36 months     C        C1        AIR RESOURCES BOARD  10+ years   \n",
      "4  60 months     B        B5   University Medical Group     1 year   \n",
      "5  36 months     A        A4       Veolia Transportaton    3 years   \n",
      "6  60 months     C        C5  Southern Star Photography    8 years   \n",
      "7  36 months     E        E1            MKC Accounting     9 years   \n",
      "8  60 months     F        F2                        NaN    4 years   \n",
      "9  60 months     B        B5                  Starbucks   < 1 year   \n",
      "\n",
      "  home_ownership verification_status   issue_d pymnt_plan  \\\n",
      "0           RENT            Verified  Dec-2011          n   \n",
      "1           RENT     Source Verified  Dec-2011          n   \n",
      "2           RENT        Not Verified  Dec-2011          n   \n",
      "3           RENT     Source Verified  Dec-2011          n   \n",
      "4           RENT     Source Verified  Dec-2011          n   \n",
      "5           RENT     Source Verified  Dec-2011          n   \n",
      "6           RENT        Not Verified  Dec-2011          n   \n",
      "7           RENT     Source Verified  Dec-2011          n   \n",
      "8            OWN     Source Verified  Dec-2011          n   \n",
      "9           RENT            Verified  Dec-2011          n   \n",
      "\n",
      "                                                desc  ...  \\\n",
      "0  Borrower added on 12/22/11 > I need to upgrade...  ...   \n",
      "1  Borrower added on 12/22/11 > I plan to use thi...  ...   \n",
      "2                                                NaN  ...   \n",
      "3  Borrower added on 12/21/11 > to pay for proper...  ...   \n",
      "4  Borrower added on 12/21/11 > I plan on combini...  ...   \n",
      "5                                                NaN  ...   \n",
      "6  Borrower added on 12/18/11 > I am planning on ...  ...   \n",
      "7  Borrower added on 12/16/11 > Downpayment for a...  ...   \n",
      "8  Borrower added on 12/21/11 > I own a small hom...  ...   \n",
      "9  Borrower added on 12/16/11 > I'm trying to bui...  ...   \n",
      "\n",
      "                                   title zip_code addr_state earliest_cr_line  \\\n",
      "0                               Computer    860xx         AZ         Jan-1985   \n",
      "1                                   bike    309xx         GA         Apr-1999   \n",
      "2                   real estate business    606xx         IL         Nov-2001   \n",
      "3                               personel    917xx         CA         Feb-1996   \n",
      "4                               Personal    972xx         OR         Jan-1996   \n",
      "5  My wedding loan I promise to pay back    852xx         AZ         Nov-2004   \n",
      "6                                   Loan    280xx         NC         Jul-2005   \n",
      "7                        Car Downpayment    900xx         CA         Jan-2007   \n",
      "8   Expand Business & Buy Debt Portfolio    958xx         CA         Apr-2004   \n",
      "9            Building my credit history.    774xx         TX         Sep-2004   \n",
      "\n",
      "  initial_list_status last_pymnt_d next_pymnt_d last_credit_pull_d  \\\n",
      "0                   f     Jan-2015          NaN           Jan-2016   \n",
      "1                   f     Apr-2013          NaN           Sep-2013   \n",
      "2                   f     Jun-2014          NaN           Jan-2016   \n",
      "3                   f     Jan-2015          NaN           Jan-2015   \n",
      "4                   f     Jan-2016     Feb-2016           Jan-2016   \n",
      "5                   f     Jan-2015          NaN           Sep-2015   \n",
      "6                   f     Jan-2016     Feb-2016           Jan-2016   \n",
      "7                   f     Jan-2015          NaN           Dec-2014   \n",
      "8                   f     Apr-2012          NaN           Aug-2012   \n",
      "9                   f     Nov-2012          NaN           Mar-2013   \n",
      "\n",
      "  application_type verification_status_joint  \n",
      "0       INDIVIDUAL                       NaN  \n",
      "1       INDIVIDUAL                       NaN  \n",
      "2       INDIVIDUAL                       NaN  \n",
      "3       INDIVIDUAL                       NaN  \n",
      "4       INDIVIDUAL                       NaN  \n",
      "5       INDIVIDUAL                       NaN  \n",
      "6       INDIVIDUAL                       NaN  \n",
      "7       INDIVIDUAL                       NaN  \n",
      "8       INDIVIDUAL                       NaN  \n",
      "9       INDIVIDUAL                       NaN  \n",
      "\n",
      "[10 rows x 21 columns]\n"
     ]
    }
   ],
   "source": [
    "numeric = df.select_dtypes(exclude = 'object')\n",
    "non_numeric = df.select_dtypes(include = 'object')\n",
    "print(numeric.head(10))\n",
    "print(non_numeric.head(10))\n"
   ]
  },
  {
   "cell_type": "markdown",
   "metadata": {},
   "source": [
    "# 3.Data Preparation"
   ]
  },
  {
   "cell_type": "markdown",
   "metadata": {},
   "source": [
    "**3.1 Identifying and Deleting Features Based on Certain Threshold**"
   ]
  },
  {
   "cell_type": "code",
   "execution_count": 34,
   "metadata": {},
   "outputs": [
    {
     "data": {
      "text/plain": [
       "dti_joint                     0.999\n",
       "verification_status_joint     0.999\n",
       "annual_inc_joint              0.999\n",
       "il_util                       0.986\n",
       "mths_since_rcnt_il            0.985\n",
       "total_bal_il                  0.984\n",
       "inq_last_12m                  0.984\n",
       "open_acc_6m                   0.984\n",
       "open_il_6m                    0.984\n",
       "open_il_24m                   0.984\n",
       "open_il_12m                   0.984\n",
       "open_rv_12m                   0.984\n",
       "open_rv_24m                   0.984\n",
       "max_bal_bc                    0.984\n",
       "all_util                      0.984\n",
       "inq_fi                        0.984\n",
       "total_cu_tl                   0.984\n",
       "desc                          0.858\n",
       "mths_since_last_record        0.847\n",
       "mths_since_last_major_derog   0.751\n",
       "mths_since_last_delinq        0.514\n",
       "next_pymnt_d                  0.296\n",
       "tot_cur_bal                   0.079\n",
       "tot_coll_amt                  0.079\n",
       "total_rev_hi_lim              0.079\n",
       "emp_title                     0.058\n",
       "emp_length                    0.050\n",
       "last_pymnt_d                  0.010\n",
       "revol_util                    0.001\n",
       "collections_12_mths_ex_med    0.000\n",
       "last_credit_pull_d            0.000\n",
       "title                         0.000\n",
       "purpose                       0.000\n",
       "pymnt_plan                    0.000\n",
       "issue_d                       0.000\n",
       "verification_status           0.000\n",
       "annual_inc                    0.000\n",
       "home_ownership                0.000\n",
       "default_ind                   0.000\n",
       "sub_grade                     0.000\n",
       "grade                         0.000\n",
       "installment                   0.000\n",
       "int_rate                      0.000\n",
       "term                          0.000\n",
       "funded_amnt_inv               0.000\n",
       "addr_state                    0.000\n",
       "funded_amnt                   0.000\n",
       "loan_amnt                     0.000\n",
       "member_id                     0.000\n",
       "zip_code                      0.000\n",
       "total_pymnt                   0.000\n",
       "dti                           0.000\n",
       "delinq_2yrs                   0.000\n",
       "acc_now_delinq                0.000\n",
       "application_type              0.000\n",
       "policy_code                   0.000\n",
       "last_pymnt_amnt               0.000\n",
       "collection_recovery_fee       0.000\n",
       "recoveries                    0.000\n",
       "total_rec_late_fee            0.000\n",
       "total_rec_int                 0.000\n",
       "total_rec_prncp               0.000\n",
       "total_pymnt_inv               0.000\n",
       "out_prncp_inv                 0.000\n",
       "out_prncp                     0.000\n",
       "initial_list_status           0.000\n",
       "total_acc                     0.000\n",
       "revol_bal                     0.000\n",
       "pub_rec                       0.000\n",
       "open_acc                      0.000\n",
       "inq_last_6mths                0.000\n",
       "earliest_cr_line              0.000\n",
       "id                            0.000\n",
       "dtype: float64"
      ]
     },
     "execution_count": 34,
     "metadata": {},
     "output_type": "execute_result"
    }
   ],
   "source": [
    "null_cols = df.isnull().mean().sort_values(ascending = False)\n",
    "null_cols"
   ]
  },
  {
   "cell_type": "markdown",
   "metadata": {},
   "source": [
    "**3.2 From Above analysis large number of features have missing data > 50%. All features that have missing data >=50% will be dropped and rest will be imputed.**\n",
    "\n"
   ]
  },
  {
   "cell_type": "code",
   "execution_count": 35,
   "metadata": {},
   "outputs": [
    {
     "data": {
      "text/plain": [
       "(855969, 52)"
      ]
     },
     "execution_count": 35,
     "metadata": {},
     "output_type": "execute_result"
    }
   ],
   "source": [
    "df = df.dropna(axis=1, thresh=int(0.5*len(df)))\n",
    "df.shape"
   ]
  },
  {
   "cell_type": "code",
   "execution_count": 36,
   "metadata": {},
   "outputs": [
    {
     "data": {
      "text/plain": [
       "emp_title                      49443\n",
       "emp_length                     43061\n",
       "title                             33\n",
       "revol_util                       446\n",
       "last_pymnt_d                    8862\n",
       "next_pymnt_d                  252971\n",
       "last_credit_pull_d                50\n",
       "collections_12_mths_ex_med        56\n",
       "tot_coll_amt                   67313\n",
       "tot_cur_bal                    67313\n",
       "total_rev_hi_lim               67313\n",
       "dtype: int64"
      ]
     },
     "execution_count": 36,
     "metadata": {},
     "output_type": "execute_result"
    }
   ],
   "source": [
    "null_columns=df.columns[df.isnull().any()]\n",
    "df[null_columns].isnull().sum()"
   ]
  },
  {
   "cell_type": "markdown",
   "metadata": {},
   "source": [
    "**3.3 After Analysis There are features with a few missing values, emp_title, emp_length, title seem to be missing at random and will be imputed with unknown.**"
   ]
  },
  {
   "cell_type": "code",
   "execution_count": 37,
   "metadata": {},
   "outputs": [],
   "source": [
    "df['emp_title'] = df['emp_title'].fillna('unknown')\n",
    "df['emp_length'] = df['emp_length'].fillna('unknown')  \n",
    "df['title'] = df['title'].fillna('unknown')\n"
   ]
  },
  {
   "cell_type": "markdown",
   "metadata": {},
   "source": [
    "**3.4 revol_util, collections_12_mths_ex_med have a  minute percentage of missing values and will be imputed with 0.**"
   ]
  },
  {
   "cell_type": "code",
   "execution_count": 38,
   "metadata": {},
   "outputs": [],
   "source": [
    "df['revol_util'] = df['revol_util'].fillna(0)\n",
    "df['collections_12_mths_ex_med'] = df['collections_12_mths_ex_med'].fillna(0)\n"
   ]
  },
  {
   "cell_type": "markdown",
   "metadata": {},
   "source": [
    "**3.5 last_pymnt_d and last_credit_pull_d will be imputed with null**\n"
   ]
  },
  {
   "cell_type": "code",
   "execution_count": 39,
   "metadata": {},
   "outputs": [
    {
     "data": {
      "text/plain": [
       "id                                 0\n",
       "member_id                          0\n",
       "loan_amnt                          0\n",
       "funded_amnt                        0\n",
       "funded_amnt_inv                    0\n",
       "term                               0\n",
       "int_rate                           0\n",
       "installment                        0\n",
       "grade                              0\n",
       "sub_grade                          0\n",
       "emp_title                          0\n",
       "emp_length                         0\n",
       "home_ownership                     0\n",
       "annual_inc                         0\n",
       "verification_status                0\n",
       "issue_d                            0\n",
       "pymnt_plan                         0\n",
       "purpose                            0\n",
       "title                              0\n",
       "zip_code                           0\n",
       "addr_state                         0\n",
       "dti                                0\n",
       "delinq_2yrs                        0\n",
       "earliest_cr_line                   0\n",
       "inq_last_6mths                     0\n",
       "open_acc                           0\n",
       "pub_rec                            0\n",
       "revol_bal                          0\n",
       "revol_util                         0\n",
       "total_acc                          0\n",
       "initial_list_status                0\n",
       "out_prncp                          0\n",
       "out_prncp_inv                      0\n",
       "total_pymnt                        0\n",
       "total_pymnt_inv                    0\n",
       "total_rec_prncp                    0\n",
       "total_rec_int                      0\n",
       "total_rec_late_fee                 0\n",
       "recoveries                         0\n",
       "collection_recovery_fee            0\n",
       "last_pymnt_d                    8862\n",
       "last_pymnt_amnt                    0\n",
       "next_pymnt_d                  252971\n",
       "last_credit_pull_d                 0\n",
       "collections_12_mths_ex_med         0\n",
       "policy_code                        0\n",
       "application_type                   0\n",
       "acc_now_delinq                     0\n",
       "tot_coll_amt                   67313\n",
       "tot_cur_bal                    67313\n",
       "total_rev_hi_lim               67313\n",
       "default_ind                        0\n",
       "dtype: int64"
      ]
     },
     "execution_count": 39,
     "metadata": {},
     "output_type": "execute_result"
    }
   ],
   "source": [
    "df['last_credit_pull_d'] = df['last_credit_pull_d'].fillna(0)\n",
    "df['last_credit_pull_d'] = df['last_credit_pull_d'].fillna(0)\n",
    "df.isnull().sum()"
   ]
  },
  {
   "cell_type": "code",
   "execution_count": null,
   "metadata": {},
   "outputs": [],
   "source": [
    "df.total_pymnt_inv.describe()\n"
   ]
  },
  {
   "cell_type": "markdown",
   "metadata": {},
   "source": [
    "**3.6 Dropping Features that do not determine y based on the type of feature alone.**\n"
   ]
  },
  {
   "cell_type": "code",
   "execution_count": 40,
   "metadata": {},
   "outputs": [
    {
     "data": {
      "text/plain": [
       "loan_amnt                     855969\n",
       "funded_amnt                   855969\n",
       "funded_amnt_inv               855969\n",
       "int_rate                      855969\n",
       "installment                   855969\n",
       "grade                         855969\n",
       "sub_grade                     855969\n",
       "emp_length                    855969\n",
       "home_ownership                855969\n",
       "annual_inc                    855969\n",
       "verification_status           855969\n",
       "issue_d                       855969\n",
       "pymnt_plan                    855969\n",
       "purpose                       855969\n",
       "title                         855969\n",
       "zip_code                      855969\n",
       "addr_state                    855969\n",
       "dti                           855969\n",
       "earliest_cr_line              855969\n",
       "open_acc                      855969\n",
       "pub_rec                       855969\n",
       "revol_bal                     855969\n",
       "revol_util                    855969\n",
       "total_acc                     855969\n",
       "out_prncp                     855969\n",
       "out_prncp_inv                 855969\n",
       "total_pymnt                   855969\n",
       "total_pymnt_inv               855969\n",
       "total_rec_prncp               855969\n",
       "total_rec_int                 855969\n",
       "total_rec_late_fee            855969\n",
       "recoveries                    855969\n",
       "last_pymnt_d                  847107\n",
       "last_pymnt_amnt               855969\n",
       "last_credit_pull_d            855969\n",
       "collections_12_mths_ex_med    855969\n",
       "acc_now_delinq                855969\n",
       "tot_coll_amt                  788656\n",
       "tot_cur_bal                   788656\n",
       "total_rev_hi_lim              788656\n",
       "default_ind                   855969\n",
       "dtype: int64"
      ]
     },
     "execution_count": 40,
     "metadata": {},
     "output_type": "execute_result"
    }
   ],
   "source": [
    "drop_features = ['id','member_id',  'emp_title', 'application_type', 'term', 'next_pymnt_d', 'delinq_2yrs', 'inq_last_6mths', \n",
    "                'policy_code', 'collection_recovery_fee', 'initial_list_status']\n",
    "for col in drop_features:\n",
    "    df = df.drop(col, axis = 1)\n",
    "df.notnull().sum()\n"
   ]
  },
  {
   "cell_type": "markdown",
   "metadata": {},
   "source": [
    "# 4.EXPLORATORY ANALYSIS\n",
    "\n"
   ]
  },
  {
   "cell_type": "markdown",
   "metadata": {},
   "source": [
    "**4.1 Creating Temporary Column to check default status**"
   ]
  },
  {
   "cell_type": "code",
   "execution_count": 41,
   "metadata": {},
   "outputs": [
    {
     "data": {
      "text/html": [
       "<div>\n",
       "<style scoped>\n",
       "    .dataframe tbody tr th:only-of-type {\n",
       "        vertical-align: middle;\n",
       "    }\n",
       "\n",
       "    .dataframe tbody tr th {\n",
       "        vertical-align: top;\n",
       "    }\n",
       "\n",
       "    .dataframe thead th {\n",
       "        text-align: right;\n",
       "    }\n",
       "</style>\n",
       "<table border=\"1\" class=\"dataframe\">\n",
       "  <thead>\n",
       "    <tr style=\"text-align: right;\">\n",
       "      <th></th>\n",
       "      <th>loan_amnt</th>\n",
       "      <th>funded_amnt</th>\n",
       "      <th>funded_amnt_inv</th>\n",
       "      <th>int_rate</th>\n",
       "      <th>installment</th>\n",
       "      <th>grade</th>\n",
       "      <th>sub_grade</th>\n",
       "      <th>emp_length</th>\n",
       "      <th>home_ownership</th>\n",
       "      <th>annual_inc</th>\n",
       "      <th>...</th>\n",
       "      <th>last_pymnt_d</th>\n",
       "      <th>last_pymnt_amnt</th>\n",
       "      <th>last_credit_pull_d</th>\n",
       "      <th>collections_12_mths_ex_med</th>\n",
       "      <th>acc_now_delinq</th>\n",
       "      <th>tot_coll_amt</th>\n",
       "      <th>tot_cur_bal</th>\n",
       "      <th>total_rev_hi_lim</th>\n",
       "      <th>default_ind</th>\n",
       "      <th>status</th>\n",
       "    </tr>\n",
       "  </thead>\n",
       "  <tbody>\n",
       "    <tr>\n",
       "      <th>0</th>\n",
       "      <td>5000.000</td>\n",
       "      <td>5000.000</td>\n",
       "      <td>4975.000</td>\n",
       "      <td>10.650</td>\n",
       "      <td>162.870</td>\n",
       "      <td>B</td>\n",
       "      <td>B2</td>\n",
       "      <td>10+ years</td>\n",
       "      <td>RENT</td>\n",
       "      <td>24000.000</td>\n",
       "      <td>...</td>\n",
       "      <td>Jan-2015</td>\n",
       "      <td>171.620</td>\n",
       "      <td>Jan-2016</td>\n",
       "      <td>0.000</td>\n",
       "      <td>0.000</td>\n",
       "      <td>nan</td>\n",
       "      <td>nan</td>\n",
       "      <td>nan</td>\n",
       "      <td>0</td>\n",
       "      <td>default</td>\n",
       "    </tr>\n",
       "    <tr>\n",
       "      <th>1</th>\n",
       "      <td>2500.000</td>\n",
       "      <td>2500.000</td>\n",
       "      <td>2500.000</td>\n",
       "      <td>15.270</td>\n",
       "      <td>59.830</td>\n",
       "      <td>C</td>\n",
       "      <td>C4</td>\n",
       "      <td>&lt; 1 year</td>\n",
       "      <td>RENT</td>\n",
       "      <td>30000.000</td>\n",
       "      <td>...</td>\n",
       "      <td>Apr-2013</td>\n",
       "      <td>119.660</td>\n",
       "      <td>Sep-2013</td>\n",
       "      <td>0.000</td>\n",
       "      <td>0.000</td>\n",
       "      <td>nan</td>\n",
       "      <td>nan</td>\n",
       "      <td>nan</td>\n",
       "      <td>1</td>\n",
       "      <td>paid</td>\n",
       "    </tr>\n",
       "    <tr>\n",
       "      <th>2</th>\n",
       "      <td>2400.000</td>\n",
       "      <td>2400.000</td>\n",
       "      <td>2400.000</td>\n",
       "      <td>15.960</td>\n",
       "      <td>84.330</td>\n",
       "      <td>C</td>\n",
       "      <td>C5</td>\n",
       "      <td>10+ years</td>\n",
       "      <td>RENT</td>\n",
       "      <td>12252.000</td>\n",
       "      <td>...</td>\n",
       "      <td>Jun-2014</td>\n",
       "      <td>649.910</td>\n",
       "      <td>Jan-2016</td>\n",
       "      <td>0.000</td>\n",
       "      <td>0.000</td>\n",
       "      <td>nan</td>\n",
       "      <td>nan</td>\n",
       "      <td>nan</td>\n",
       "      <td>0</td>\n",
       "      <td>default</td>\n",
       "    </tr>\n",
       "    <tr>\n",
       "      <th>3</th>\n",
       "      <td>10000.000</td>\n",
       "      <td>10000.000</td>\n",
       "      <td>10000.000</td>\n",
       "      <td>13.490</td>\n",
       "      <td>339.310</td>\n",
       "      <td>C</td>\n",
       "      <td>C1</td>\n",
       "      <td>10+ years</td>\n",
       "      <td>RENT</td>\n",
       "      <td>49200.000</td>\n",
       "      <td>...</td>\n",
       "      <td>Jan-2015</td>\n",
       "      <td>357.480</td>\n",
       "      <td>Jan-2015</td>\n",
       "      <td>0.000</td>\n",
       "      <td>0.000</td>\n",
       "      <td>nan</td>\n",
       "      <td>nan</td>\n",
       "      <td>nan</td>\n",
       "      <td>0</td>\n",
       "      <td>default</td>\n",
       "    </tr>\n",
       "    <tr>\n",
       "      <th>4</th>\n",
       "      <td>3000.000</td>\n",
       "      <td>3000.000</td>\n",
       "      <td>3000.000</td>\n",
       "      <td>12.690</td>\n",
       "      <td>67.790</td>\n",
       "      <td>B</td>\n",
       "      <td>B5</td>\n",
       "      <td>1 year</td>\n",
       "      <td>RENT</td>\n",
       "      <td>80000.000</td>\n",
       "      <td>...</td>\n",
       "      <td>Jan-2016</td>\n",
       "      <td>67.790</td>\n",
       "      <td>Jan-2016</td>\n",
       "      <td>0.000</td>\n",
       "      <td>0.000</td>\n",
       "      <td>nan</td>\n",
       "      <td>nan</td>\n",
       "      <td>nan</td>\n",
       "      <td>0</td>\n",
       "      <td>default</td>\n",
       "    </tr>\n",
       "    <tr>\n",
       "      <th>5</th>\n",
       "      <td>5000.000</td>\n",
       "      <td>5000.000</td>\n",
       "      <td>5000.000</td>\n",
       "      <td>7.900</td>\n",
       "      <td>156.460</td>\n",
       "      <td>A</td>\n",
       "      <td>A4</td>\n",
       "      <td>3 years</td>\n",
       "      <td>RENT</td>\n",
       "      <td>36000.000</td>\n",
       "      <td>...</td>\n",
       "      <td>Jan-2015</td>\n",
       "      <td>161.030</td>\n",
       "      <td>Sep-2015</td>\n",
       "      <td>0.000</td>\n",
       "      <td>0.000</td>\n",
       "      <td>nan</td>\n",
       "      <td>nan</td>\n",
       "      <td>nan</td>\n",
       "      <td>0</td>\n",
       "      <td>default</td>\n",
       "    </tr>\n",
       "    <tr>\n",
       "      <th>6</th>\n",
       "      <td>7000.000</td>\n",
       "      <td>7000.000</td>\n",
       "      <td>7000.000</td>\n",
       "      <td>15.960</td>\n",
       "      <td>170.080</td>\n",
       "      <td>C</td>\n",
       "      <td>C5</td>\n",
       "      <td>8 years</td>\n",
       "      <td>RENT</td>\n",
       "      <td>47004.000</td>\n",
       "      <td>...</td>\n",
       "      <td>Jan-2016</td>\n",
       "      <td>170.080</td>\n",
       "      <td>Jan-2016</td>\n",
       "      <td>0.000</td>\n",
       "      <td>0.000</td>\n",
       "      <td>nan</td>\n",
       "      <td>nan</td>\n",
       "      <td>nan</td>\n",
       "      <td>0</td>\n",
       "      <td>default</td>\n",
       "    </tr>\n",
       "    <tr>\n",
       "      <th>7</th>\n",
       "      <td>3000.000</td>\n",
       "      <td>3000.000</td>\n",
       "      <td>3000.000</td>\n",
       "      <td>18.640</td>\n",
       "      <td>109.430</td>\n",
       "      <td>E</td>\n",
       "      <td>E1</td>\n",
       "      <td>9 years</td>\n",
       "      <td>RENT</td>\n",
       "      <td>48000.000</td>\n",
       "      <td>...</td>\n",
       "      <td>Jan-2015</td>\n",
       "      <td>111.340</td>\n",
       "      <td>Dec-2014</td>\n",
       "      <td>0.000</td>\n",
       "      <td>0.000</td>\n",
       "      <td>nan</td>\n",
       "      <td>nan</td>\n",
       "      <td>nan</td>\n",
       "      <td>0</td>\n",
       "      <td>default</td>\n",
       "    </tr>\n",
       "    <tr>\n",
       "      <th>8</th>\n",
       "      <td>5600.000</td>\n",
       "      <td>5600.000</td>\n",
       "      <td>5600.000</td>\n",
       "      <td>21.280</td>\n",
       "      <td>152.390</td>\n",
       "      <td>F</td>\n",
       "      <td>F2</td>\n",
       "      <td>4 years</td>\n",
       "      <td>OWN</td>\n",
       "      <td>40000.000</td>\n",
       "      <td>...</td>\n",
       "      <td>Apr-2012</td>\n",
       "      <td>152.390</td>\n",
       "      <td>Aug-2012</td>\n",
       "      <td>0.000</td>\n",
       "      <td>0.000</td>\n",
       "      <td>nan</td>\n",
       "      <td>nan</td>\n",
       "      <td>nan</td>\n",
       "      <td>1</td>\n",
       "      <td>paid</td>\n",
       "    </tr>\n",
       "    <tr>\n",
       "      <th>9</th>\n",
       "      <td>5375.000</td>\n",
       "      <td>5375.000</td>\n",
       "      <td>5350.000</td>\n",
       "      <td>12.690</td>\n",
       "      <td>121.450</td>\n",
       "      <td>B</td>\n",
       "      <td>B5</td>\n",
       "      <td>&lt; 1 year</td>\n",
       "      <td>RENT</td>\n",
       "      <td>15000.000</td>\n",
       "      <td>...</td>\n",
       "      <td>Nov-2012</td>\n",
       "      <td>121.450</td>\n",
       "      <td>Mar-2013</td>\n",
       "      <td>0.000</td>\n",
       "      <td>0.000</td>\n",
       "      <td>nan</td>\n",
       "      <td>nan</td>\n",
       "      <td>nan</td>\n",
       "      <td>1</td>\n",
       "      <td>paid</td>\n",
       "    </tr>\n",
       "  </tbody>\n",
       "</table>\n",
       "<p>10 rows × 42 columns</p>\n",
       "</div>"
      ],
      "text/plain": [
       "   loan_amnt  funded_amnt  funded_amnt_inv  int_rate  installment grade  \\\n",
       "0   5000.000     5000.000         4975.000    10.650      162.870     B   \n",
       "1   2500.000     2500.000         2500.000    15.270       59.830     C   \n",
       "2   2400.000     2400.000         2400.000    15.960       84.330     C   \n",
       "3  10000.000    10000.000        10000.000    13.490      339.310     C   \n",
       "4   3000.000     3000.000         3000.000    12.690       67.790     B   \n",
       "5   5000.000     5000.000         5000.000     7.900      156.460     A   \n",
       "6   7000.000     7000.000         7000.000    15.960      170.080     C   \n",
       "7   3000.000     3000.000         3000.000    18.640      109.430     E   \n",
       "8   5600.000     5600.000         5600.000    21.280      152.390     F   \n",
       "9   5375.000     5375.000         5350.000    12.690      121.450     B   \n",
       "\n",
       "  sub_grade emp_length home_ownership  annual_inc  ... last_pymnt_d  \\\n",
       "0        B2  10+ years           RENT   24000.000  ...     Jan-2015   \n",
       "1        C4   < 1 year           RENT   30000.000  ...     Apr-2013   \n",
       "2        C5  10+ years           RENT   12252.000  ...     Jun-2014   \n",
       "3        C1  10+ years           RENT   49200.000  ...     Jan-2015   \n",
       "4        B5     1 year           RENT   80000.000  ...     Jan-2016   \n",
       "5        A4    3 years           RENT   36000.000  ...     Jan-2015   \n",
       "6        C5    8 years           RENT   47004.000  ...     Jan-2016   \n",
       "7        E1    9 years           RENT   48000.000  ...     Jan-2015   \n",
       "8        F2    4 years            OWN   40000.000  ...     Apr-2012   \n",
       "9        B5   < 1 year           RENT   15000.000  ...     Nov-2012   \n",
       "\n",
       "  last_pymnt_amnt last_credit_pull_d collections_12_mths_ex_med  \\\n",
       "0         171.620           Jan-2016                      0.000   \n",
       "1         119.660           Sep-2013                      0.000   \n",
       "2         649.910           Jan-2016                      0.000   \n",
       "3         357.480           Jan-2015                      0.000   \n",
       "4          67.790           Jan-2016                      0.000   \n",
       "5         161.030           Sep-2015                      0.000   \n",
       "6         170.080           Jan-2016                      0.000   \n",
       "7         111.340           Dec-2014                      0.000   \n",
       "8         152.390           Aug-2012                      0.000   \n",
       "9         121.450           Mar-2013                      0.000   \n",
       "\n",
       "  acc_now_delinq tot_coll_amt tot_cur_bal  total_rev_hi_lim default_ind  \\\n",
       "0          0.000          nan         nan               nan           0   \n",
       "1          0.000          nan         nan               nan           1   \n",
       "2          0.000          nan         nan               nan           0   \n",
       "3          0.000          nan         nan               nan           0   \n",
       "4          0.000          nan         nan               nan           0   \n",
       "5          0.000          nan         nan               nan           0   \n",
       "6          0.000          nan         nan               nan           0   \n",
       "7          0.000          nan         nan               nan           0   \n",
       "8          0.000          nan         nan               nan           1   \n",
       "9          0.000          nan         nan               nan           1   \n",
       "\n",
       "    status  \n",
       "0  default  \n",
       "1     paid  \n",
       "2  default  \n",
       "3  default  \n",
       "4  default  \n",
       "5  default  \n",
       "6  default  \n",
       "7  default  \n",
       "8     paid  \n",
       "9     paid  \n",
       "\n",
       "[10 rows x 42 columns]"
      ]
     },
     "execution_count": 41,
     "metadata": {},
     "output_type": "execute_result"
    }
   ],
   "source": [
    "df['status'] = np.where(df.default_ind == 1, 'paid', 'default')\n",
    "df.head(10)"
   ]
  },
  {
   "cell_type": "markdown",
   "metadata": {},
   "source": [
    "**4.2 custom function to map distribution plot and box plot alongwith outlier analysis and skewness indicator.**"
   ]
  },
  {
   "cell_type": "code",
   "execution_count": 42,
   "metadata": {},
   "outputs": [],
   "source": [
    "def dist1(col):\n",
    "    fig, ax = plt.subplots()\n",
    "    sns.distplot(df.loc[df[col], col], kde=False)\n",
    "def dist0(col):\n",
    "    fig, ax = plt.subplots()\n",
    "    sns.countplot(df[col], order=sorted(df[col].unique()), color='r')\n",
    "    ax.set_xlabel(col)\n",
    "    ax.set_title(col)\n",
    "def plot1(col):\n",
    "    fig, ax = plt.subplots()\n",
    "    sns.boxplot(x=col, y='status', data = df)\n",
    "def skew(col):\n",
    "    print('SKEW VALUE:', df[col].skew())\n",
    "def scatter(col):\n",
    "    df.plot.scatter(x = col, y = 'default_ind')\n",
    "\n",
    "    "
   ]
  },
  {
   "cell_type": "markdown",
   "metadata": {},
   "source": [
    "**4.3 loan_amt**"
   ]
  },
  {
   "cell_type": "code",
   "execution_count": 43,
   "metadata": {},
   "outputs": [
    {
     "name": "stdout",
     "output_type": "stream",
     "text": [
      "SKEW VALUE: 0.6826396569991998\n"
     ]
    },
    {
     "data": {
      "text/plain": [
       "count   855969.000\n",
       "mean     14745.571\n",
       "std       8425.340\n",
       "min        500.000\n",
       "25%       8000.000\n",
       "50%      13000.000\n",
       "75%      20000.000\n",
       "max      35000.000\n",
       "Name: loan_amnt, dtype: float64"
      ]
     },
     "execution_count": 43,
     "metadata": {},
     "output_type": "execute_result"
    },
    {
     "data": {
      "image/png": "[encoded data removed]",
      "text/plain": [
       "<Figure size 432x288 with 1 Axes>"
      ]
     },
     "metadata": {
      "needs_background": "light"
     },
     "output_type": "display_data"
    },
    {
     "data": {
      "image/png": "[encoded data removed]",
      "text/plain": [
       "<Figure size 432x288 with 1 Axes>"
      ]
     },
     "metadata": {
      "needs_background": "light"
     },
     "output_type": "display_data"
    }
   ],
   "source": [
    "dist1('loan_amnt')\n",
    "plot1('loan_amnt')\n",
    "skew('loan_amnt')\n",
    "df['loan_amnt'].describe()"
   ]
  },
  {
   "cell_type": "markdown",
   "metadata": {},
   "source": [
    "**4.4 funded_amnt, funded_amnt_inv**"
   ]
  },
  {
   "cell_type": "code",
   "execution_count": 44,
   "metadata": {},
   "outputs": [
    {
     "data": {
      "image/png": "[encoded data removed]",
      "text/plain": [
       "<Figure size 432x288 with 1 Axes>"
      ]
     },
     "metadata": {
      "needs_background": "light"
     },
     "output_type": "display_data"
    },
    {
     "data": {
      "image/png": "[encoded data removed]",
      "text/plain": [
       "<Figure size 432x288 with 1 Axes>"
      ]
     },
     "metadata": {
      "needs_background": "light"
     },
     "output_type": "display_data"
    },
    {
     "data": {
      "image/png": "[encoded data removed]",
      "text/plain": [
       "<Figure size 432x288 with 1 Axes>"
      ]
     },
     "metadata": {
      "needs_background": "light"
     },
     "output_type": "display_data"
    }
   ],
   "source": [
    "df['check'] = np.where(df.loan_amnt == df.funded_amnt, True, np.nan)\n",
    "df['check2'] = np.where(df.loan_amnt == df.funded_amnt_inv, True, np.nan)\n",
    "df['check'].isnull().sum()\n",
    "df['check2'].isnull().sum()\n",
    "plot1('funded_amnt')\n",
    "plot1('funded_amnt_inv')\n",
    "plot1('loan_amnt')"
   ]
  },
  {
   "cell_type": "markdown",
   "metadata": {},
   "source": [
    "**For the funded_amnt and funded_amnt_inv are the amounts committed at the time and as per the dictionary loan_amnt may change if at all the creditor decides to do so, taking this into consideration funded_amnt and funded_amnt_inv will be dropped. Since loan_amnt seems to be the final amount.**"
   ]
  },
  {
   "cell_type": "markdown",
   "metadata": {},
   "source": [
    "**4.5 int_rate**"
   ]
  },
  {
   "cell_type": "code",
   "execution_count": 45,
   "metadata": {},
   "outputs": [
    {
     "name": "stdout",
     "output_type": "stream",
     "text": [
      "count   855969.000\n",
      "mean        13.192\n",
      "std          4.368\n",
      "min          5.320\n",
      "25%          9.990\n",
      "50%         12.990\n",
      "75%         15.990\n",
      "max         28.990\n",
      "Name: int_rate, dtype: float64\n",
      "SKEW VALUE: 0.43334416133317955\n"
     ]
    },
    {
     "data": {
      "image/png": "[encoded data removed]",
      "text/plain": [
       "<Figure size 432x288 with 3 Axes>"
      ]
     },
     "metadata": {
      "needs_background": "light"
     },
     "output_type": "display_data"
    }
   ],
   "source": [
    "print(df['int_rate'].describe())\n",
    "\n",
    "fig, (ax1, ax2, ax3) = plt.subplots(1, 3)\n",
    "sns.distplot(df['int_rate'], kde=False, ax = ax1)\n",
    "\n",
    "sns.distplot(df['loan_amnt'], kde=False, ax = ax2)\n",
    "\n",
    "sns.boxplot(x='int_rate', y='status', data = df)\n",
    "skew('int_rate')\n",
    "\n"
   ]
  },
  {
   "cell_type": "markdown",
   "metadata": {},
   "source": [
    "**Upon analysis of the int_rate vs status of the loan there seems to be lower rate charged to default loans than paid off loans, which is highly unusual.**"
   ]
  },
  {
   "cell_type": "markdown",
   "metadata": {},
   "source": [
    "**4.6 Installment**"
   ]
  },
  {
   "cell_type": "code",
   "execution_count": 46,
   "metadata": {},
   "outputs": [
    {
     "name": "stdout",
     "output_type": "stream",
     "text": [
      "count   855969.000\n",
      "mean       436.238\n",
      "std        243.727\n",
      "min         15.690\n",
      "25%        260.550\n",
      "50%        382.550\n",
      "75%        571.560\n",
      "max       1445.460\n",
      "Name: installment, dtype: float64\n",
      "SKEW VALUE: 0.9378387199078426\n"
     ]
    },
    {
     "data": {
      "text/plain": [
       "<AxesSubplot:xlabel='installment', ylabel='status'>"
      ]
     },
     "execution_count": 46,
     "metadata": {},
     "output_type": "execute_result"
    },
    {
     "data": {
      "image/png": "[encoded data removed]",
      "text/plain": [
       "<Figure size 432x288 with 1 Axes>"
      ]
     },
     "metadata": {
      "needs_background": "light"
     },
     "output_type": "display_data"
    },
    {
     "data": {
      "image/png": "[encoded data removed]",
      "text/plain": [
       "<Figure size 432x288 with 2 Axes>"
      ]
     },
     "metadata": {
      "needs_background": "light"
     },
     "output_type": "display_data"
    }
   ],
   "source": [
    "print(df['installment'].describe())\n",
    "skew('installment')\n",
    "plot1('installment')\n",
    "fig,(ax1, ax2) = plt.subplots(1, 2)\n",
    "sns.distplot(df['installment'], kde=False, ax = ax1)\n",
    "sns.boxplot(x='installment', y='status', ax = ax2, data = df)\n",
    "\n"
   ]
  },
  {
   "cell_type": "markdown",
   "metadata": {},
   "source": [
    "**4.7 grade**"
   ]
  },
  {
   "cell_type": "code",
   "execution_count": 47,
   "metadata": {},
   "outputs": [
    {
     "data": {
      "text/plain": [
       "<AxesSubplot:xlabel='grade', ylabel='loan_amnt'>"
      ]
     },
     "execution_count": 47,
     "metadata": {},
     "output_type": "execute_result"
    },
    {
     "data": {
      "image/png": "[encoded data removed]",
      "text/plain": [
       "<Figure size 432x288 with 3 Axes>"
      ]
     },
     "metadata": {
      "needs_background": "light"
     },
     "output_type": "display_data"
    }
   ],
   "source": [
    "points = df['grade'].value_counts()\n",
    "\n",
    "fig,(ax1, ax2, ax3) = plt.subplots(1, 3)\n",
    "sns.set_style('darkgrid') \n",
    "sns.barplot(x ='grade', y ='loan_amnt', data = df, palette ='plasma', ax = ax1) \n",
    "sns.boxplot(x ='grade', y ='loan_amnt', data = df, ax = ax2) \n",
    "sns.barplot(x ='grade', y ='loan_amnt', data = df, palette ='plasma', ax = ax1) \n"
   ]
  },
  {
   "cell_type": "markdown",
   "metadata": {},
   "source": [
    "**By analysing the data it is clear, assuming higher grade is a customer with good credit score, most of the loans were given to customers with a higher grade.**"
   ]
  },
  {
   "cell_type": "markdown",
   "metadata": {},
   "source": [
    "**4.8 sub_grade**"
   ]
  },
  {
   "cell_type": "code",
   "execution_count": 48,
   "metadata": {},
   "outputs": [
    {
     "data": {
      "text/plain": [
       "<AxesSubplot:xlabel='sub_grade', ylabel='loan_amnt'>"
      ]
     },
     "execution_count": 48,
     "metadata": {},
     "output_type": "execute_result"
    },
    {
     "data": {
      "image/png": "[encoded data removed]",
      "text/plain": [
       "<Figure size 432x288 with 3 Axes>"
      ]
     },
     "metadata": {},
     "output_type": "display_data"
    }
   ],
   "source": [
    "points = df['sub_grade'].value_counts()\n",
    "fig,(ax1, ax2, ax3) = plt.subplots(1, 3)\n",
    "sns.set_style('darkgrid') \n",
    "sns.barplot(x ='sub_grade', y ='loan_amnt', data = df, palette ='plasma', ax = ax1) \n",
    "sns.boxplot(x ='sub_grade', y ='loan_amnt', data = df, ax = ax2) \n"
   ]
  },
  {
   "cell_type": "markdown",
   "metadata": {},
   "source": [
    "**By analysing both grade and sub_grade columns we come to a conclusion that grade is further diluted into sub_grade and is similar to the grade column.**"
   ]
  },
  {
   "cell_type": "markdown",
   "metadata": {},
   "source": [
    "**4.9 emp_length**"
   ]
  },
  {
   "cell_type": "code",
   "execution_count": 49,
   "metadata": {},
   "outputs": [
    {
     "data": {
      "text/plain": [
       "<AxesSubplot:xlabel='emp_length', ylabel='loan_amnt'>"
      ]
     },
     "execution_count": 49,
     "metadata": {},
     "output_type": "execute_result"
    },
    {
     "data": {
      "image/png": "[encoded data removed]",
      "text/plain": [
       "<Figure size 1800x1080 with 3 Axes>"
      ]
     },
     "metadata": {},
     "output_type": "display_data"
    }
   ],
   "source": [
    "df['emp_length'].describe()\n",
    "fig,(ax1, ax2, ax3) = plt.subplots(1, 3, figsize=(25, 15))\n",
    "sns.set_style('darkgrid') \n",
    "sns.barplot(x ='emp_length', y ='loan_amnt', data = df, palette ='plasma', ax = ax1) \n",
    "sns.boxplot(x ='emp_length', y ='loan_amnt', data = df, ax = ax2) \n"
   ]
  },
  {
   "cell_type": "markdown",
   "metadata": {},
   "source": [
    "**Upon analysis there seems to be no major difference in year of employment and loan amount disbursed. However there is still some incremental increase in amount disbursed in year 7,8,9 which is a good indicator.**"
   ]
  },
  {
   "cell_type": "markdown",
   "metadata": {},
   "source": [
    "**4.10 home_ownership**"
   ]
  },
  {
   "cell_type": "code",
   "execution_count": 50,
   "metadata": {},
   "outputs": [
    {
     "data": {
      "image/png": "[encoded data removed]",
      "text/plain": [
       "<Figure size 1800x1080 with 3 Axes>"
      ]
     },
     "metadata": {},
     "output_type": "display_data"
    }
   ],
   "source": [
    "fig,(ax1, ax2, ax3) = plt.subplots(1, 3, figsize=(25, 15))\n",
    "sns.set_style('darkgrid') \n",
    "sns.barplot(x ='home_ownership', y ='loan_amnt', data = df, palette ='plasma', ax = ax1) \n",
    "sns.boxplot(x ='home_ownership', y ='loan_amnt', data = df, ax = ax2) \n",
    "points = df['home_ownership'].value_counts()\n",
    "points\n",
    "defaults = df.groupby('home_ownership')['status'].value_counts(normalize=True).loc[:,'default']\n",
    "sns.barplot(x=defaults.index, y=defaults.values, color='b')\n",
    "plt.show()\n"
   ]
  },
  {
   "cell_type": "markdown",
   "metadata": {},
   "source": [
    "**4.11 verification_status**\n"
   ]
  },
  {
   "cell_type": "code",
   "execution_count": 51,
   "metadata": {},
   "outputs": [
    {
     "data": {
      "text/plain": [
       "<AxesSubplot:xlabel='verification_status'>"
      ]
     },
     "execution_count": 51,
     "metadata": {},
     "output_type": "execute_result"
    },
    {
     "data": {
      "image/png": "[encoded data removed]",
      "text/plain": [
       "<Figure size 432x288 with 1 Axes>"
      ]
     },
     "metadata": {},
     "output_type": "display_data"
    },
    {
     "data": {
      "image/png": "[encoded data removed]",
      "text/plain": [
       "<Figure size 1800x1080 with 3 Axes>"
      ]
     },
     "metadata": {},
     "output_type": "display_data"
    }
   ],
   "source": [
    "points = df['verification_status'].value_counts()\n",
    "points\n",
    "col_name = df.verification_status\n",
    "dist0('verification_status')\n",
    "fig,(ax1, ax2, ax3) = plt.subplots(1, 3, figsize=(25, 15))\n",
    "sns.set_style('darkgrid') \n",
    "sns.barplot(x ='verification_status', y ='loan_amnt', data = df, palette ='plasma', ax = ax1) \n",
    "sns.boxplot(x ='verification_status', y ='loan_amnt', data = df, ax = ax2) \n",
    "charge_off_rates = df.groupby(col_name)['status'].value_counts(normalize=True).loc[:,'default']\n",
    "sns.barplot(x=charge_off_rates.index, y=charge_off_rates.values,  ax=ax3)\n"
   ]
  },
  {
   "cell_type": "markdown",
   "metadata": {},
   "source": [
    "**4.12 pymnt_plan**"
   ]
  },
  {
   "cell_type": "code",
   "execution_count": 52,
   "metadata": {},
   "outputs": [
    {
     "data": {
      "text/plain": [
       "n    855964\n",
       "y         5\n",
       "Name: pymnt_plan, dtype: int64"
      ]
     },
     "execution_count": 52,
     "metadata": {},
     "output_type": "execute_result"
    }
   ],
   "source": [
    "points = df['pymnt_plan'].value_counts()\n",
    "points\n",
    "\n"
   ]
  },
  {
   "cell_type": "markdown",
   "metadata": {},
   "source": [
    "**pymnt_plan seems to have more than 99% n values this coulmn will be dropped**"
   ]
  },
  {
   "cell_type": "markdown",
   "metadata": {},
   "source": [
    "**4.13 purpose**"
   ]
  },
  {
   "cell_type": "code",
   "execution_count": 53,
   "metadata": {},
   "outputs": [
    {
     "data": {
      "text/plain": [
       "<AxesSubplot:xlabel='purpose'>"
      ]
     },
     "execution_count": 53,
     "metadata": {},
     "output_type": "execute_result"
    },
    {
     "data": {
      "image/png": "[encoded data removed]",
      "text/plain": [
       "<Figure size 2520x1080 with 3 Axes>"
      ]
     },
     "metadata": {},
     "output_type": "display_data"
    }
   ],
   "source": [
    "points = df['purpose'].value_counts()\n",
    "points\n",
    "fig,(ax1, ax2, ax3) = plt.subplots(1, 3, figsize=(35, 15))\n",
    "sns.set_style('darkgrid') \n",
    "sns.barplot(x ='purpose', y ='loan_amnt', data = df, palette ='plasma', ax = ax1) \n",
    "sns.boxplot(x ='purpose', y ='loan_amnt', data = df, ax = ax2) \n",
    "charge_off_rates = df.groupby(df.purpose)['status'].value_counts(normalize=True).loc[:,'default']\n",
    "sns.barplot(x=charge_off_rates.index, y=charge_off_rates.values,  ax=ax3)\n"
   ]
  },
  {
   "cell_type": "markdown",
   "metadata": {},
   "source": [
    "**4.14 title**"
   ]
  },
  {
   "cell_type": "code",
   "execution_count": 54,
   "metadata": {},
   "outputs": [
    {
     "data": {
      "text/plain": [
       "Debt consolidation                   398094\n",
       "Credit card refinancing              159228\n",
       "Home improvement                      38633\n",
       "Other                                 30522\n",
       "Debt Consolidation                    15519\n",
       "                                      ...  \n",
       "Debt Pay Off and Car Finance Loan         1\n",
       "Small Wedding Loan                        1\n",
       "reduce Debt                               1\n",
       "payback1                                  1\n",
       "Business Start                            1\n",
       "Name: title, Length: 60737, dtype: int64"
      ]
     },
     "execution_count": 54,
     "metadata": {},
     "output_type": "execute_result"
    }
   ],
   "source": [
    "points = df['title'].value_counts()\n",
    "points\n"
   ]
  },
  {
   "cell_type": "markdown",
   "metadata": {},
   "source": [
    "**4.15 zip_code**"
   ]
  },
  {
   "cell_type": "code",
   "execution_count": 55,
   "metadata": {},
   "outputs": [
    {
     "data": {
      "text/plain": [
       "685"
      ]
     },
     "execution_count": 55,
     "metadata": {},
     "output_type": "execute_result"
    }
   ],
   "source": [
    "points = df['zip_code'].value_counts().nunique()\n",
    "points\n",
    "\n"
   ]
  },
  {
   "cell_type": "markdown",
   "metadata": {},
   "source": [
    "**4.16 addr_state**"
   ]
  },
  {
   "cell_type": "code",
   "execution_count": 56,
   "metadata": {},
   "outputs": [
    {
     "data": {
      "text/html": [
       "<div>\n",
       "<style scoped>\n",
       "    .dataframe tbody tr th:only-of-type {\n",
       "        vertical-align: middle;\n",
       "    }\n",
       "\n",
       "    .dataframe tbody tr th {\n",
       "        vertical-align: top;\n",
       "    }\n",
       "\n",
       "    .dataframe thead th {\n",
       "        text-align: right;\n",
       "    }\n",
       "</style>\n",
       "<table border=\"1\" class=\"dataframe\">\n",
       "  <thead>\n",
       "    <tr style=\"text-align: right;\">\n",
       "      <th></th>\n",
       "      <th>count</th>\n",
       "      <th>unique</th>\n",
       "      <th>top</th>\n",
       "      <th>freq</th>\n",
       "    </tr>\n",
       "    <tr>\n",
       "      <th>addr_state</th>\n",
       "      <th></th>\n",
       "      <th></th>\n",
       "      <th></th>\n",
       "      <th></th>\n",
       "    </tr>\n",
       "  </thead>\n",
       "  <tbody>\n",
       "    <tr>\n",
       "      <th>AK</th>\n",
       "      <td>2134</td>\n",
       "      <td>2</td>\n",
       "      <td>default</td>\n",
       "      <td>2036</td>\n",
       "    </tr>\n",
       "    <tr>\n",
       "      <th>AL</th>\n",
       "      <td>10732</td>\n",
       "      <td>2</td>\n",
       "      <td>default</td>\n",
       "      <td>10061</td>\n",
       "    </tr>\n",
       "    <tr>\n",
       "      <th>AR</th>\n",
       "      <td>6399</td>\n",
       "      <td>2</td>\n",
       "      <td>default</td>\n",
       "      <td>6054</td>\n",
       "    </tr>\n",
       "    <tr>\n",
       "      <th>AZ</th>\n",
       "      <td>19693</td>\n",
       "      <td>2</td>\n",
       "      <td>default</td>\n",
       "      <td>18605</td>\n",
       "    </tr>\n",
       "    <tr>\n",
       "      <th>CA</th>\n",
       "      <td>125172</td>\n",
       "      <td>2</td>\n",
       "      <td>default</td>\n",
       "      <td>117629</td>\n",
       "    </tr>\n",
       "    <tr>\n",
       "      <th>CO</th>\n",
       "      <td>18211</td>\n",
       "      <td>2</td>\n",
       "      <td>default</td>\n",
       "      <td>17402</td>\n",
       "    </tr>\n",
       "    <tr>\n",
       "      <th>CT</th>\n",
       "      <td>13042</td>\n",
       "      <td>2</td>\n",
       "      <td>default</td>\n",
       "      <td>12420</td>\n",
       "    </tr>\n",
       "    <tr>\n",
       "      <th>DC</th>\n",
       "      <td>2382</td>\n",
       "      <td>2</td>\n",
       "      <td>default</td>\n",
       "      <td>2293</td>\n",
       "    </tr>\n",
       "    <tr>\n",
       "      <th>DE</th>\n",
       "      <td>2402</td>\n",
       "      <td>2</td>\n",
       "      <td>default</td>\n",
       "      <td>2276</td>\n",
       "    </tr>\n",
       "    <tr>\n",
       "      <th>FL</th>\n",
       "      <td>58639</td>\n",
       "      <td>2</td>\n",
       "      <td>default</td>\n",
       "      <td>55020</td>\n",
       "    </tr>\n",
       "    <tr>\n",
       "      <th>GA</th>\n",
       "      <td>28043</td>\n",
       "      <td>2</td>\n",
       "      <td>default</td>\n",
       "      <td>26647</td>\n",
       "    </tr>\n",
       "    <tr>\n",
       "      <th>HI</th>\n",
       "      <td>4380</td>\n",
       "      <td>2</td>\n",
       "      <td>default</td>\n",
       "      <td>4096</td>\n",
       "    </tr>\n",
       "    <tr>\n",
       "      <th>IA</th>\n",
       "      <td>7</td>\n",
       "      <td>2</td>\n",
       "      <td>default</td>\n",
       "      <td>6</td>\n",
       "    </tr>\n",
       "    <tr>\n",
       "      <th>ID</th>\n",
       "      <td>9</td>\n",
       "      <td>2</td>\n",
       "      <td>default</td>\n",
       "      <td>8</td>\n",
       "    </tr>\n",
       "    <tr>\n",
       "      <th>IL</th>\n",
       "      <td>34379</td>\n",
       "      <td>2</td>\n",
       "      <td>default</td>\n",
       "      <td>32809</td>\n",
       "    </tr>\n",
       "    <tr>\n",
       "      <th>IN</th>\n",
       "      <td>13348</td>\n",
       "      <td>2</td>\n",
       "      <td>default</td>\n",
       "      <td>12703</td>\n",
       "    </tr>\n",
       "    <tr>\n",
       "      <th>KS</th>\n",
       "      <td>7693</td>\n",
       "      <td>2</td>\n",
       "      <td>default</td>\n",
       "      <td>7332</td>\n",
       "    </tr>\n",
       "    <tr>\n",
       "      <th>KY</th>\n",
       "      <td>8299</td>\n",
       "      <td>2</td>\n",
       "      <td>default</td>\n",
       "      <td>7848</td>\n",
       "    </tr>\n",
       "    <tr>\n",
       "      <th>LA</th>\n",
       "      <td>10186</td>\n",
       "      <td>2</td>\n",
       "      <td>default</td>\n",
       "      <td>9602</td>\n",
       "    </tr>\n",
       "    <tr>\n",
       "      <th>MA</th>\n",
       "      <td>19835</td>\n",
       "      <td>2</td>\n",
       "      <td>default</td>\n",
       "      <td>18789</td>\n",
       "    </tr>\n",
       "    <tr>\n",
       "      <th>MD</th>\n",
       "      <td>20209</td>\n",
       "      <td>2</td>\n",
       "      <td>default</td>\n",
       "      <td>19086</td>\n",
       "    </tr>\n",
       "    <tr>\n",
       "      <th>ME</th>\n",
       "      <td>491</td>\n",
       "      <td>1</td>\n",
       "      <td>default</td>\n",
       "      <td>491</td>\n",
       "    </tr>\n",
       "    <tr>\n",
       "      <th>MI</th>\n",
       "      <td>22175</td>\n",
       "      <td>2</td>\n",
       "      <td>default</td>\n",
       "      <td>20993</td>\n",
       "    </tr>\n",
       "    <tr>\n",
       "      <th>MN</th>\n",
       "      <td>15424</td>\n",
       "      <td>2</td>\n",
       "      <td>default</td>\n",
       "      <td>14601</td>\n",
       "    </tr>\n",
       "    <tr>\n",
       "      <th>MO</th>\n",
       "      <td>13743</td>\n",
       "      <td>2</td>\n",
       "      <td>default</td>\n",
       "      <td>12946</td>\n",
       "    </tr>\n",
       "    <tr>\n",
       "      <th>MS</th>\n",
       "      <td>3653</td>\n",
       "      <td>2</td>\n",
       "      <td>default</td>\n",
       "      <td>3563</td>\n",
       "    </tr>\n",
       "    <tr>\n",
       "      <th>MT</th>\n",
       "      <td>2466</td>\n",
       "      <td>2</td>\n",
       "      <td>default</td>\n",
       "      <td>2365</td>\n",
       "    </tr>\n",
       "    <tr>\n",
       "      <th>NC</th>\n",
       "      <td>23787</td>\n",
       "      <td>2</td>\n",
       "      <td>default</td>\n",
       "      <td>22448</td>\n",
       "    </tr>\n",
       "    <tr>\n",
       "      <th>ND</th>\n",
       "      <td>452</td>\n",
       "      <td>1</td>\n",
       "      <td>default</td>\n",
       "      <td>452</td>\n",
       "    </tr>\n",
       "    <tr>\n",
       "      <th>NE</th>\n",
       "      <td>1124</td>\n",
       "      <td>2</td>\n",
       "      <td>default</td>\n",
       "      <td>1120</td>\n",
       "    </tr>\n",
       "    <tr>\n",
       "      <th>NH</th>\n",
       "      <td>4156</td>\n",
       "      <td>2</td>\n",
       "      <td>default</td>\n",
       "      <td>3996</td>\n",
       "    </tr>\n",
       "    <tr>\n",
       "      <th>NJ</th>\n",
       "      <td>32061</td>\n",
       "      <td>2</td>\n",
       "      <td>default</td>\n",
       "      <td>30171</td>\n",
       "    </tr>\n",
       "    <tr>\n",
       "      <th>NM</th>\n",
       "      <td>4757</td>\n",
       "      <td>2</td>\n",
       "      <td>default</td>\n",
       "      <td>4480</td>\n",
       "    </tr>\n",
       "    <tr>\n",
       "      <th>NV</th>\n",
       "      <td>11972</td>\n",
       "      <td>2</td>\n",
       "      <td>default</td>\n",
       "      <td>11142</td>\n",
       "    </tr>\n",
       "    <tr>\n",
       "      <th>NY</th>\n",
       "      <td>71114</td>\n",
       "      <td>2</td>\n",
       "      <td>default</td>\n",
       "      <td>66884</td>\n",
       "    </tr>\n",
       "    <tr>\n",
       "      <th>OH</th>\n",
       "      <td>28651</td>\n",
       "      <td>2</td>\n",
       "      <td>default</td>\n",
       "      <td>27139</td>\n",
       "    </tr>\n",
       "    <tr>\n",
       "      <th>OK</th>\n",
       "      <td>7759</td>\n",
       "      <td>2</td>\n",
       "      <td>default</td>\n",
       "      <td>7330</td>\n",
       "    </tr>\n",
       "    <tr>\n",
       "      <th>OR</th>\n",
       "      <td>10562</td>\n",
       "      <td>2</td>\n",
       "      <td>default</td>\n",
       "      <td>10010</td>\n",
       "    </tr>\n",
       "    <tr>\n",
       "      <th>PA</th>\n",
       "      <td>30250</td>\n",
       "      <td>2</td>\n",
       "      <td>default</td>\n",
       "      <td>28654</td>\n",
       "    </tr>\n",
       "    <tr>\n",
       "      <th>RI</th>\n",
       "      <td>3753</td>\n",
       "      <td>2</td>\n",
       "      <td>default</td>\n",
       "      <td>3557</td>\n",
       "    </tr>\n",
       "    <tr>\n",
       "      <th>SC</th>\n",
       "      <td>10302</td>\n",
       "      <td>2</td>\n",
       "      <td>default</td>\n",
       "      <td>9838</td>\n",
       "    </tr>\n",
       "    <tr>\n",
       "      <th>SD</th>\n",
       "      <td>1745</td>\n",
       "      <td>2</td>\n",
       "      <td>default</td>\n",
       "      <td>1654</td>\n",
       "    </tr>\n",
       "    <tr>\n",
       "      <th>TN</th>\n",
       "      <td>12392</td>\n",
       "      <td>2</td>\n",
       "      <td>default</td>\n",
       "      <td>11807</td>\n",
       "    </tr>\n",
       "    <tr>\n",
       "      <th>TX</th>\n",
       "      <td>68708</td>\n",
       "      <td>2</td>\n",
       "      <td>default</td>\n",
       "      <td>65562</td>\n",
       "    </tr>\n",
       "    <tr>\n",
       "      <th>UT</th>\n",
       "      <td>6055</td>\n",
       "      <td>2</td>\n",
       "      <td>default</td>\n",
       "      <td>5698</td>\n",
       "    </tr>\n",
       "    <tr>\n",
       "      <th>VA</th>\n",
       "      <td>25234</td>\n",
       "      <td>2</td>\n",
       "      <td>default</td>\n",
       "      <td>23767</td>\n",
       "    </tr>\n",
       "    <tr>\n",
       "      <th>VT</th>\n",
       "      <td>1753</td>\n",
       "      <td>2</td>\n",
       "      <td>default</td>\n",
       "      <td>1682</td>\n",
       "    </tr>\n",
       "    <tr>\n",
       "      <th>WA</th>\n",
       "      <td>18816</td>\n",
       "      <td>2</td>\n",
       "      <td>default</td>\n",
       "      <td>17808</td>\n",
       "    </tr>\n",
       "    <tr>\n",
       "      <th>WI</th>\n",
       "      <td>11199</td>\n",
       "      <td>2</td>\n",
       "      <td>default</td>\n",
       "      <td>10649</td>\n",
       "    </tr>\n",
       "    <tr>\n",
       "      <th>WV</th>\n",
       "      <td>4247</td>\n",
       "      <td>2</td>\n",
       "      <td>default</td>\n",
       "      <td>4082</td>\n",
       "    </tr>\n",
       "    <tr>\n",
       "      <th>WY</th>\n",
       "      <td>1974</td>\n",
       "      <td>2</td>\n",
       "      <td>default</td>\n",
       "      <td>1891</td>\n",
       "    </tr>\n",
       "  </tbody>\n",
       "</table>\n",
       "</div>"
      ],
      "text/plain": [
       "             count unique      top    freq\n",
       "addr_state                                \n",
       "AK            2134      2  default    2036\n",
       "AL           10732      2  default   10061\n",
       "AR            6399      2  default    6054\n",
       "AZ           19693      2  default   18605\n",
       "CA          125172      2  default  117629\n",
       "CO           18211      2  default   17402\n",
       "CT           13042      2  default   12420\n",
       "DC            2382      2  default    2293\n",
       "DE            2402      2  default    2276\n",
       "FL           58639      2  default   55020\n",
       "GA           28043      2  default   26647\n",
       "HI            4380      2  default    4096\n",
       "IA               7      2  default       6\n",
       "ID               9      2  default       8\n",
       "IL           34379      2  default   32809\n",
       "IN           13348      2  default   12703\n",
       "KS            7693      2  default    7332\n",
       "KY            8299      2  default    7848\n",
       "LA           10186      2  default    9602\n",
       "MA           19835      2  default   18789\n",
       "MD           20209      2  default   19086\n",
       "ME             491      1  default     491\n",
       "MI           22175      2  default   20993\n",
       "MN           15424      2  default   14601\n",
       "MO           13743      2  default   12946\n",
       "MS            3653      2  default    3563\n",
       "MT            2466      2  default    2365\n",
       "NC           23787      2  default   22448\n",
       "ND             452      1  default     452\n",
       "NE            1124      2  default    1120\n",
       "NH            4156      2  default    3996\n",
       "NJ           32061      2  default   30171\n",
       "NM            4757      2  default    4480\n",
       "NV           11972      2  default   11142\n",
       "NY           71114      2  default   66884\n",
       "OH           28651      2  default   27139\n",
       "OK            7759      2  default    7330\n",
       "OR           10562      2  default   10010\n",
       "PA           30250      2  default   28654\n",
       "RI            3753      2  default    3557\n",
       "SC           10302      2  default    9838\n",
       "SD            1745      2  default    1654\n",
       "TN           12392      2  default   11807\n",
       "TX           68708      2  default   65562\n",
       "UT            6055      2  default    5698\n",
       "VA           25234      2  default   23767\n",
       "VT            1753      2  default    1682\n",
       "WA           18816      2  default   17808\n",
       "WI           11199      2  default   10649\n",
       "WV            4247      2  default    4082\n",
       "WY            1974      2  default    1891"
      ]
     },
     "execution_count": 56,
     "metadata": {},
     "output_type": "execute_result"
    }
   ],
   "source": [
    "points = df['addr_state'].value_counts().nunique()\n",
    "points\n",
    "\n",
    "df.groupby('addr_state')['status'].describe()"
   ]
  },
  {
   "cell_type": "markdown",
   "metadata": {},
   "source": [
    "**4.17 earliest_cr_line**"
   ]
  },
  {
   "cell_type": "code",
   "execution_count": 57,
   "metadata": {},
   "outputs": [
    {
     "data": {
      "text/plain": [
       "<AxesSubplot:xlabel='earliest_cr_line', ylabel='loan_amnt'>"
      ]
     },
     "execution_count": 57,
     "metadata": {},
     "output_type": "execute_result"
    },
    {
     "data": {
      "image/png": "[encoded data removed]",
      "text/plain": [
       "<Figure size 1800x1080 with 1 Axes>"
      ]
     },
     "metadata": {},
     "output_type": "display_data"
    }
   ],
   "source": [
    "df['earliest_cr_line'].describe()\n",
    "fig, ax = plt.subplots(figsize=(25, 15))\n",
    "sns.set_style('darkgrid') \n",
    "sns.barplot(x ='earliest_cr_line', y ='loan_amnt', data = df, palette ='plasma') \n"
   ]
  },
  {
   "cell_type": "markdown",
   "metadata": {},
   "source": [
    "**4.18 open_acc**"
   ]
  },
  {
   "cell_type": "code",
   "execution_count": 58,
   "metadata": {},
   "outputs": [
    {
     "data": {
      "text/plain": [
       "<AxesSubplot:xlabel='open_acc', ylabel='loan_amnt'>"
      ]
     },
     "execution_count": 58,
     "metadata": {},
     "output_type": "execute_result"
    },
    {
     "data": {
      "image/png": "[encoded data removed]",
      "text/plain": [
       "<Figure size 2520x1080 with 3 Axes>"
      ]
     },
     "metadata": {},
     "output_type": "display_data"
    }
   ],
   "source": [
    "df['open_acc'].describe()\n",
    "fig,(ax1, ax2, ax3) = plt.subplots(1, 3, figsize=(35, 15))\n",
    "sns.set_style('darkgrid') \n",
    "sns.barplot(x ='open_acc', y ='loan_amnt', data = df, palette ='plasma', ax = ax1) \n",
    "sns.boxplot(x ='open_acc', y ='loan_amnt', data = df, ax = ax2) \n"
   ]
  },
  {
   "cell_type": "markdown",
   "metadata": {},
   "source": [
    "**4.19 pub_rec**"
   ]
  },
  {
   "cell_type": "code",
   "execution_count": 59,
   "metadata": {},
   "outputs": [
    {
     "data": {
      "image/png": "[encoded data removed]",
      "text/plain": [
       "<Figure size 432x288 with 1 Axes>"
      ]
     },
     "metadata": {},
     "output_type": "display_data"
    }
   ],
   "source": [
    "df.pub_rec.describe()\n",
    "plot1('pub_rec')\n",
    "\n"
   ]
  },
  {
   "cell_type": "markdown",
   "metadata": {},
   "source": [
    "**pub_rec public records is a good indicator that shows majority of the defaulters have bad public records**"
   ]
  },
  {
   "cell_type": "markdown",
   "metadata": {},
   "source": [
    "**4.20 total_acc**"
   ]
  },
  {
   "cell_type": "code",
   "execution_count": 60,
   "metadata": {},
   "outputs": [
    {
     "name": "stdout",
     "output_type": "stream",
     "text": [
      "SKEW VALUE: 0.8912146778548425\n"
     ]
    },
    {
     "data": {
      "image/png": "[encoded data removed]",
      "text/plain": [
       "<Figure size 432x288 with 1 Axes>"
      ]
     },
     "metadata": {},
     "output_type": "display_data"
    },
    {
     "data": {
      "image/png": "[encoded data removed]",
      "text/plain": [
       "<Figure size 432x288 with 1 Axes>"
      ]
     },
     "metadata": {},
     "output_type": "display_data"
    }
   ],
   "source": [
    "df.total_acc.describe()\n",
    "plot1('total_acc')\n",
    "skew('total_acc')\n",
    "dist1('total_acc')\n"
   ]
  },
  {
   "cell_type": "markdown",
   "metadata": {},
   "source": [
    "**4.1.1 Categorical Encoding Ordinal Features**"
   ]
  },
  {
   "cell_type": "code",
   "execution_count": 61,
   "metadata": {},
   "outputs": [
    {
     "name": "stdout",
     "output_type": "stream",
     "text": [
      "['B', 'C', 'A', 'E', 'F', 'D', 'G']\n",
      "['B2', 'C4', 'C5', 'C1', 'B5', 'A4', 'E1', 'F2', 'C3', 'B1', 'D1', 'A1', 'B3', 'B4', 'C2', 'D2', 'A3', 'A5', 'D5', 'A2', 'E4', 'D3', 'D4', 'F3', 'E3', 'F4', 'F1', 'E5', 'G4', 'E2', 'G3', 'G2', 'G1', 'F5', 'G5']\n",
      "['10+ years', '< 1 year', '1 year', '3 years', '8 years', '9 years', '4 years', '5 years', '6 years', '2 years', '7 years', 'unknown']\n",
      "['n', 'y']\n"
     ]
    }
   ],
   "source": [
    "#grade\n",
    "print(df.grade.unique().tolist())\n",
    "grade_map = {'A':7, 'B':6, 'C':5, 'D':4,'E':3, 'F':2, 'G':1}\n",
    "df['grade'] = df['grade'].map(grade_map)\n",
    "\n",
    "#subgrade\n",
    "print(df.sub_grade.unique().tolist())\n",
    "sub_grade_map = {'A1':35, 'A2':34, 'A3':33, 'A4':32, 'A5':31,\n",
    "                 'B1':30, 'B2':29, 'B3':28,'B4':27, 'B5':26, \n",
    "                 'C1':25, 'C2':24, 'C3':23, 'C4':22, 'C5':21, \n",
    "                 'D1':20, 'D2':19,'D3':18, 'D4':17, 'D5':16,\n",
    "                 'E1':15, 'E2':14, 'E3':13, 'E4':12, 'E5':11, \n",
    "                 'F1':10, 'F2':9, 'F3':8, 'F4':7, 'F5':6,\n",
    "                 'G1':5, 'G2':4, 'G3':3, 'G4':2, 'G5':1\n",
    "                 }\n",
    "df['sub_grade'] = df['sub_grade'].map(sub_grade_map)\n",
    "\n",
    "#emp_length\n",
    "print(df.emp_length.unique().tolist())\n",
    "emp_length_map = {'10+ years': 13, '9 years': 12, '8 years': 11, '7 years': 10, '6 years': 9, '5 years':8, '4 years':7,\n",
    "                  '3 years':6, '4 years':5, '3 years':4, '2 years': 3, '1 year': 2, '< 1 year':1, 'unknown':0\n",
    "    \n",
    "}\n",
    "df['emp_length'] = df['emp_length'].map(emp_length_map)\n",
    "\n",
    "\n",
    "#paymnt_plan\n",
    "print(df.pymnt_plan.unique().tolist())\n",
    "pymnt_plan_map = { 'n':0, 'y':1\n",
    "    \n",
    "}\n",
    "df['pymnt_plan']  = df['pymnt_plan'].map(pymnt_plan_map)\n",
    "\n",
    "non_numeric = df.select_dtypes(include = 'object')\n"
   ]
  },
  {
   "cell_type": "markdown",
   "metadata": {},
   "source": [
    "**4.2.1 Dummy Variable Creation for features that do not have a set relationship.**"
   ]
  },
  {
   "cell_type": "code",
   "execution_count": 62,
   "metadata": {},
   "outputs": [
    {
     "data": {
      "text/plain": [
       "loan_amnt                         0\n",
       "funded_amnt                       0\n",
       "funded_amnt_inv                   0\n",
       "int_rate                          0\n",
       "installment                       0\n",
       "grade                             0\n",
       "sub_grade                         0\n",
       "emp_length                        0\n",
       "home_ownership                    0\n",
       "annual_inc                        0\n",
       "verification_status               0\n",
       "issue_d                           0\n",
       "pymnt_plan                        0\n",
       "purpose                           0\n",
       "title                             0\n",
       "zip_code                          0\n",
       "addr_state                        0\n",
       "dti                               0\n",
       "earliest_cr_line                  0\n",
       "open_acc                          0\n",
       "pub_rec                           0\n",
       "revol_bal                         0\n",
       "revol_util                        0\n",
       "total_acc                         0\n",
       "out_prncp                         0\n",
       "out_prncp_inv                     0\n",
       "total_pymnt                       0\n",
       "total_pymnt_inv                   0\n",
       "total_rec_prncp                   0\n",
       "total_rec_int                     0\n",
       "total_rec_late_fee                0\n",
       "recoveries                        0\n",
       "last_pymnt_d                      0\n",
       "last_pymnt_amnt                   0\n",
       "last_credit_pull_d                0\n",
       "collections_12_mths_ex_med        0\n",
       "acc_now_delinq                    0\n",
       "tot_coll_amt                  67313\n",
       "tot_cur_bal                   67313\n",
       "total_rev_hi_lim              67313\n",
       "default_ind                       0\n",
       "status                            0\n",
       "check                          1917\n",
       "check2                        96591\n",
       "dtype: int64"
      ]
     },
     "execution_count": 62,
     "metadata": {},
     "output_type": "execute_result"
    }
   ],
   "source": [
    "#forward fill last_pymnt_d before creating dummies\n",
    "df.isnull().sum()\n",
    "cols = ['last_pymnt_d']\n",
    "df.loc[:,cols] = df.loc[:,cols].ffill()\n",
    "df.isnull().sum()"
   ]
  },
  {
   "cell_type": "code",
   "execution_count": 63,
   "metadata": {},
   "outputs": [],
   "source": [
    "non_numeric = df.select_dtypes(include = 'object')\n",
    "\n",
    "df = pd.get_dummies(df, columns =['home_ownership', 'verification_status', 'purpose', 'addr_state'])\n"
   ]
  },
  {
   "cell_type": "markdown",
   "metadata": {},
   "source": [
    "**4.3.1 Splitting Date by heirarchy year>month into separate columns.**"
   ]
  },
  {
   "cell_type": "code",
   "execution_count": 64,
   "metadata": {},
   "outputs": [
    {
     "name": "stdout",
     "output_type": "stream",
     "text": [
      "['Jan', 'Apr', 'Nov', 'Feb', 'Jul', 'Sep', 'Oct', 'May', 'Aug', 'Jun', 'Dec', 'Mar']\n"
     ]
    }
   ],
   "source": [
    "#earliest_cr_line\n",
    "earliest_cr_line_list = df.earliest_cr_line.str.split('-', expand = True)\n",
    "df['earliest_cr_line_month'] = earliest_cr_line_list[0]\n",
    "df['earliest_cr_line_year'] = earliest_cr_line_list[1]\n",
    "\n",
    "print(df.earliest_cr_line_month.unique().tolist())\n",
    "earliest_cr_line_month_map = {'Jan':1, 'Feb':2, 'Mar':3, 'Apr':4,'May':5, 'Jun':6, 'Jul':7,\n",
    "            'Aug':8, 'Sep':9, 'Oct':10, 'Nov':11, 'Dec':12}\n",
    "df['earliest_cr_line_month'] = df['earliest_cr_line_month'].map(earliest_cr_line_month_map)\n",
    "df['earliest_cr_line_month'] = df['earliest_cr_line_month'].astype('int64')\n",
    "df['earliest_cr_line_year'] = df['earliest_cr_line_year'].astype('int64')\n",
    "\n"
   ]
  },
  {
   "cell_type": "markdown",
   "metadata": {},
   "source": [
    "**4.3.2 last_pymnt_d**"
   ]
  },
  {
   "cell_type": "code",
   "execution_count": 65,
   "metadata": {},
   "outputs": [
    {
     "name": "stdout",
     "output_type": "stream",
     "text": [
      "['Jan', 'Apr', 'Jun', 'Nov', 'Sep', 'Jul', 'Oct', 'May', 'Feb', 'Aug', 'Dec', 'Mar']\n"
     ]
    }
   ],
   "source": [
    "last_pymnt_d_list = df.last_pymnt_d.str.split('-', expand = True)\n",
    "df['last_pymnt_d_month'] = last_pymnt_d_list[0]\n",
    "df['last_pymnt_d_year'] = last_pymnt_d_list[1]\n",
    "print(df.last_pymnt_d_month.unique().tolist())\n",
    "last_pymnt_d_month_map = {'Jan':1, 'Feb':2, 'Mar':3, 'Apr':4,'May':5, 'Jun':6, 'Jul':7,\n",
    "            'Aug':8, 'Sep':9, 'Oct':10, 'Nov':11, 'Dec':12}\n",
    "\n",
    "df['last_pymnt_d_month'] = df['last_pymnt_d_month'].map(last_pymnt_d_month_map)\n",
    "df['last_pymnt_d_month']\n",
    "df['last_pymnt_d_year'] = df['last_pymnt_d_year'].astype('int64')\n",
    "\n"
   ]
  },
  {
   "cell_type": "markdown",
   "metadata": {},
   "source": [
    "**4.3.3 last_credit_pull_d**"
   ]
  },
  {
   "cell_type": "code",
   "execution_count": 66,
   "metadata": {},
   "outputs": [
    {
     "name": "stdout",
     "output_type": "stream",
     "text": [
      "['Jan', 'Sep', 'Dec', 'Aug', 'Mar', 'Nov', 'Apr', 'May', 'Jul', 'Oct', 'Jun', 'Feb']\n"
     ]
    },
    {
     "data": {
      "text/plain": [
       "0         1\n",
       "1         9\n",
       "2         1\n",
       "3         1\n",
       "4         1\n",
       "         ..\n",
       "855964    1\n",
       "855965    1\n",
       "855966    1\n",
       "855967    1\n",
       "855968    1\n",
       "Name: last_credit_pull_d_month, Length: 855969, dtype: int64"
      ]
     },
     "execution_count": 66,
     "metadata": {},
     "output_type": "execute_result"
    }
   ],
   "source": [
    "last_credit_pull_d_list = df.last_credit_pull_d.str.split('-', expand = True)\n",
    "df['last_credit_pull_d_month'] = last_credit_pull_d_list[0]\n",
    "df['last_credit_pull_d_year'] = last_credit_pull_d_list[1]\n",
    "cols = ['last_credit_pull_d_month']\n",
    "df.loc[:,cols] = df.loc[:,cols].ffill()\n",
    "print(df.last_credit_pull_d_month.unique().tolist())\n",
    "last_credit_pull_d_map = {'Jan':1, 'Feb':2, 'Mar':3, 'Apr':4,'May':5, 'Jun':6, 'Jul':7,\n",
    "            'Aug':8, 'Sep':9, 'Oct':10, 'Nov':11, 'Dec':12}\n",
    "\n",
    "df['last_credit_pull_d_month'] = df['last_credit_pull_d_month'].map(last_credit_pull_d_map)\n",
    "cols_last_credit_pull_d_year = ['last_credit_pull_d_year']\n",
    "df.loc[:,cols_last_credit_pull_d_year] = df.loc[:,cols_last_credit_pull_d_year].ffill()\n",
    "\n",
    "df['last_credit_pull_d_year'] = df['last_credit_pull_d_year'].astype('int64')\n",
    "df['last_credit_pull_d_month']\n"
   ]
  },
  {
   "cell_type": "markdown",
   "metadata": {},
   "source": [
    "**4.4.1 dropping title, zipcode as there are many levels to it, as well as earliest_cr_line,  last_paymnt_dt, last_cr_pull_dt as the columns have already been split.** "
   ]
  },
  {
   "cell_type": "code",
   "execution_count": 69,
   "metadata": {},
   "outputs": [
    {
     "ename": "KeyError",
     "evalue": "\"['title'] not found in axis\"",
     "output_type": "error",
     "traceback": [
      "\u001b[1;31m---------------------------------------------------------------------------\u001b[0m",
      "\u001b[1;31mKeyError\u001b[0m                                  Traceback (most recent call last)",
      "\u001b[1;32m<ipython-input-69-225e1ed62a14>\u001b[0m in \u001b[0;36m<module>\u001b[1;34m\u001b[0m\n\u001b[0;32m      1\u001b[0m \u001b[0mrejected_cols\u001b[0m \u001b[1;33m=\u001b[0m \u001b[1;33m[\u001b[0m\u001b[1;34m'title'\u001b[0m\u001b[1;33m,\u001b[0m \u001b[1;34m'zip_code'\u001b[0m\u001b[1;33m,\u001b[0m \u001b[1;34m'earliest_cr_line'\u001b[0m\u001b[1;33m,\u001b[0m \u001b[1;34m'last_pymnt_d'\u001b[0m\u001b[1;33m,\u001b[0m \u001b[1;34m'last_credit_pull_d'\u001b[0m\u001b[1;33m]\u001b[0m\u001b[1;33m\u001b[0m\u001b[1;33m\u001b[0m\u001b[0m\n\u001b[0;32m      2\u001b[0m \u001b[1;32mfor\u001b[0m \u001b[0mcols\u001b[0m \u001b[1;32min\u001b[0m \u001b[0mrejected_cols\u001b[0m\u001b[1;33m:\u001b[0m\u001b[1;33m\u001b[0m\u001b[1;33m\u001b[0m\u001b[0m\n\u001b[1;32m----> 3\u001b[1;33m     \u001b[0mdf\u001b[0m \u001b[1;33m=\u001b[0m \u001b[0mdf\u001b[0m\u001b[1;33m.\u001b[0m\u001b[0mdrop\u001b[0m\u001b[1;33m(\u001b[0m\u001b[0mcols\u001b[0m\u001b[1;33m,\u001b[0m \u001b[0maxis\u001b[0m \u001b[1;33m=\u001b[0m \u001b[1;36m1\u001b[0m\u001b[1;33m)\u001b[0m\u001b[1;33m\u001b[0m\u001b[1;33m\u001b[0m\u001b[0m\n\u001b[0m\u001b[0;32m      4\u001b[0m \u001b[1;33m\u001b[0m\u001b[0m\n",
      "\u001b[1;32mc:\\users\\jason dias\\appdata\\local\\programs\\python\\python38\\lib\\site-packages\\pandas\\core\\frame.py\u001b[0m in \u001b[0;36mdrop\u001b[1;34m(self, labels, axis, index, columns, level, inplace, errors)\u001b[0m\n\u001b[0;32m   4155\u001b[0m                 \u001b[0mweight\u001b[0m  \u001b[1;36m1.0\u001b[0m     \u001b[1;36m0.8\u001b[0m\u001b[1;33m\u001b[0m\u001b[1;33m\u001b[0m\u001b[0m\n\u001b[0;32m   4156\u001b[0m         \"\"\"\n\u001b[1;32m-> 4157\u001b[1;33m         return super().drop(\n\u001b[0m\u001b[0;32m   4158\u001b[0m             \u001b[0mlabels\u001b[0m\u001b[1;33m=\u001b[0m\u001b[0mlabels\u001b[0m\u001b[1;33m,\u001b[0m\u001b[1;33m\u001b[0m\u001b[1;33m\u001b[0m\u001b[0m\n\u001b[0;32m   4159\u001b[0m             \u001b[0maxis\u001b[0m\u001b[1;33m=\u001b[0m\u001b[0maxis\u001b[0m\u001b[1;33m,\u001b[0m\u001b[1;33m\u001b[0m\u001b[1;33m\u001b[0m\u001b[0m\n",
      "\u001b[1;32mc:\\users\\jason dias\\appdata\\local\\programs\\python\\python38\\lib\\site-packages\\pandas\\core\\generic.py\u001b[0m in \u001b[0;36mdrop\u001b[1;34m(self, labels, axis, index, columns, level, inplace, errors)\u001b[0m\n\u001b[0;32m   3876\u001b[0m         \u001b[1;32mfor\u001b[0m \u001b[0maxis\u001b[0m\u001b[1;33m,\u001b[0m \u001b[0mlabels\u001b[0m \u001b[1;32min\u001b[0m \u001b[0maxes\u001b[0m\u001b[1;33m.\u001b[0m\u001b[0mitems\u001b[0m\u001b[1;33m(\u001b[0m\u001b[1;33m)\u001b[0m\u001b[1;33m:\u001b[0m\u001b[1;33m\u001b[0m\u001b[1;33m\u001b[0m\u001b[0m\n\u001b[0;32m   3877\u001b[0m             \u001b[1;32mif\u001b[0m \u001b[0mlabels\u001b[0m \u001b[1;32mis\u001b[0m \u001b[1;32mnot\u001b[0m \u001b[1;32mNone\u001b[0m\u001b[1;33m:\u001b[0m\u001b[1;33m\u001b[0m\u001b[1;33m\u001b[0m\u001b[0m\n\u001b[1;32m-> 3878\u001b[1;33m                 \u001b[0mobj\u001b[0m \u001b[1;33m=\u001b[0m \u001b[0mobj\u001b[0m\u001b[1;33m.\u001b[0m\u001b[0m_drop_axis\u001b[0m\u001b[1;33m(\u001b[0m\u001b[0mlabels\u001b[0m\u001b[1;33m,\u001b[0m \u001b[0maxis\u001b[0m\u001b[1;33m,\u001b[0m \u001b[0mlevel\u001b[0m\u001b[1;33m=\u001b[0m\u001b[0mlevel\u001b[0m\u001b[1;33m,\u001b[0m \u001b[0merrors\u001b[0m\u001b[1;33m=\u001b[0m\u001b[0merrors\u001b[0m\u001b[1;33m)\u001b[0m\u001b[1;33m\u001b[0m\u001b[1;33m\u001b[0m\u001b[0m\n\u001b[0m\u001b[0;32m   3879\u001b[0m \u001b[1;33m\u001b[0m\u001b[0m\n\u001b[0;32m   3880\u001b[0m         \u001b[1;32mif\u001b[0m \u001b[0minplace\u001b[0m\u001b[1;33m:\u001b[0m\u001b[1;33m\u001b[0m\u001b[1;33m\u001b[0m\u001b[0m\n",
      "\u001b[1;32mc:\\users\\jason dias\\appdata\\local\\programs\\python\\python38\\lib\\site-packages\\pandas\\core\\generic.py\u001b[0m in \u001b[0;36m_drop_axis\u001b[1;34m(self, labels, axis, level, errors)\u001b[0m\n\u001b[0;32m   3910\u001b[0m                 \u001b[0mnew_axis\u001b[0m \u001b[1;33m=\u001b[0m \u001b[0maxis\u001b[0m\u001b[1;33m.\u001b[0m\u001b[0mdrop\u001b[0m\u001b[1;33m(\u001b[0m\u001b[0mlabels\u001b[0m\u001b[1;33m,\u001b[0m \u001b[0mlevel\u001b[0m\u001b[1;33m=\u001b[0m\u001b[0mlevel\u001b[0m\u001b[1;33m,\u001b[0m \u001b[0merrors\u001b[0m\u001b[1;33m=\u001b[0m\u001b[0merrors\u001b[0m\u001b[1;33m)\u001b[0m\u001b[1;33m\u001b[0m\u001b[1;33m\u001b[0m\u001b[0m\n\u001b[0;32m   3911\u001b[0m             \u001b[1;32melse\u001b[0m\u001b[1;33m:\u001b[0m\u001b[1;33m\u001b[0m\u001b[1;33m\u001b[0m\u001b[0m\n\u001b[1;32m-> 3912\u001b[1;33m                 \u001b[0mnew_axis\u001b[0m \u001b[1;33m=\u001b[0m \u001b[0maxis\u001b[0m\u001b[1;33m.\u001b[0m\u001b[0mdrop\u001b[0m\u001b[1;33m(\u001b[0m\u001b[0mlabels\u001b[0m\u001b[1;33m,\u001b[0m \u001b[0merrors\u001b[0m\u001b[1;33m=\u001b[0m\u001b[0merrors\u001b[0m\u001b[1;33m)\u001b[0m\u001b[1;33m\u001b[0m\u001b[1;33m\u001b[0m\u001b[0m\n\u001b[0m\u001b[0;32m   3913\u001b[0m             \u001b[0mresult\u001b[0m \u001b[1;33m=\u001b[0m \u001b[0mself\u001b[0m\u001b[1;33m.\u001b[0m\u001b[0mreindex\u001b[0m\u001b[1;33m(\u001b[0m\u001b[1;33m**\u001b[0m\u001b[1;33m{\u001b[0m\u001b[0maxis_name\u001b[0m\u001b[1;33m:\u001b[0m \u001b[0mnew_axis\u001b[0m\u001b[1;33m}\u001b[0m\u001b[1;33m)\u001b[0m\u001b[1;33m\u001b[0m\u001b[1;33m\u001b[0m\u001b[0m\n\u001b[0;32m   3914\u001b[0m \u001b[1;33m\u001b[0m\u001b[0m\n",
      "\u001b[1;32mc:\\users\\jason dias\\appdata\\local\\programs\\python\\python38\\lib\\site-packages\\pandas\\core\\indexes\\base.py\u001b[0m in \u001b[0;36mdrop\u001b[1;34m(self, labels, errors)\u001b[0m\n\u001b[0;32m   5274\u001b[0m         \u001b[1;32mif\u001b[0m \u001b[0mmask\u001b[0m\u001b[1;33m.\u001b[0m\u001b[0many\u001b[0m\u001b[1;33m(\u001b[0m\u001b[1;33m)\u001b[0m\u001b[1;33m:\u001b[0m\u001b[1;33m\u001b[0m\u001b[1;33m\u001b[0m\u001b[0m\n\u001b[0;32m   5275\u001b[0m             \u001b[1;32mif\u001b[0m \u001b[0merrors\u001b[0m \u001b[1;33m!=\u001b[0m \u001b[1;34m\"ignore\"\u001b[0m\u001b[1;33m:\u001b[0m\u001b[1;33m\u001b[0m\u001b[1;33m\u001b[0m\u001b[0m\n\u001b[1;32m-> 5276\u001b[1;33m                 \u001b[1;32mraise\u001b[0m \u001b[0mKeyError\u001b[0m\u001b[1;33m(\u001b[0m\u001b[1;34mf\"{labels[mask]} not found in axis\"\u001b[0m\u001b[1;33m)\u001b[0m\u001b[1;33m\u001b[0m\u001b[1;33m\u001b[0m\u001b[0m\n\u001b[0m\u001b[0;32m   5277\u001b[0m             \u001b[0mindexer\u001b[0m \u001b[1;33m=\u001b[0m \u001b[0mindexer\u001b[0m\u001b[1;33m[\u001b[0m\u001b[1;33m~\u001b[0m\u001b[0mmask\u001b[0m\u001b[1;33m]\u001b[0m\u001b[1;33m\u001b[0m\u001b[1;33m\u001b[0m\u001b[0m\n\u001b[0;32m   5278\u001b[0m         \u001b[1;32mreturn\u001b[0m \u001b[0mself\u001b[0m\u001b[1;33m.\u001b[0m\u001b[0mdelete\u001b[0m\u001b[1;33m(\u001b[0m\u001b[0mindexer\u001b[0m\u001b[1;33m)\u001b[0m\u001b[1;33m\u001b[0m\u001b[1;33m\u001b[0m\u001b[0m\n",
      "\u001b[1;31mKeyError\u001b[0m: \"['title'] not found in axis\""
     ]
    }
   ],
   "source": [
    "rejected_cols = ['title', 'zip_code', 'earliest_cr_line', 'last_pymnt_d', 'last_credit_pull_d']\n",
    "for cols in rejected_cols:\n",
    "    df = df.drop(cols, axis = 1)\n",
    "   "
   ]
  },
  {
   "cell_type": "code",
   "execution_count": 68,
   "metadata": {},
   "outputs": [
    {
     "name": "stdout",
     "output_type": "stream",
     "text": [
      "         issue_d   status\n",
      "0       Dec-2011  default\n",
      "1       Dec-2011     paid\n",
      "2       Dec-2011  default\n",
      "3       Dec-2011  default\n",
      "4       Dec-2011  default\n",
      "...          ...      ...\n",
      "855964  Jan-2015  default\n",
      "855965  Jan-2015  default\n",
      "855966  Jan-2015  default\n",
      "855967  Jan-2015  default\n",
      "855968  Jan-2015  default\n",
      "\n",
      "[855969 rows x 2 columns]\n"
     ]
    }
   ],
   "source": [
    "non_numeric = df.select_dtypes(include = 'object')\n",
    "print(non_numeric)"
   ]
  },
  {
   "cell_type": "code",
   "execution_count": 70,
   "metadata": {},
   "outputs": [
    {
     "data": {
      "text/plain": [
       "loan_amnt                                  0\n",
       "funded_amnt                                0\n",
       "funded_amnt_inv                            0\n",
       "int_rate                                   0\n",
       "installment                                0\n",
       "grade                                      0\n",
       "sub_grade                                  0\n",
       "emp_length                                 0\n",
       "annual_inc                                 0\n",
       "issue_d                                    0\n",
       "pymnt_plan                                 0\n",
       "dti                                        0\n",
       "open_acc                                   0\n",
       "pub_rec                                    0\n",
       "revol_bal                                  0\n",
       "revol_util                                 0\n",
       "total_acc                                  0\n",
       "out_prncp                                  0\n",
       "out_prncp_inv                              0\n",
       "total_pymnt                                0\n",
       "total_pymnt_inv                            0\n",
       "total_rec_prncp                            0\n",
       "total_rec_int                              0\n",
       "total_rec_late_fee                         0\n",
       "recoveries                                 0\n",
       "last_pymnt_amnt                            0\n",
       "collections_12_mths_ex_med                 0\n",
       "acc_now_delinq                             0\n",
       "tot_coll_amt                           67313\n",
       "tot_cur_bal                            67313\n",
       "total_rev_hi_lim                       67313\n",
       "default_ind                                0\n",
       "status                                     0\n",
       "check                                   1917\n",
       "check2                                 96591\n",
       "home_ownership_ANY                         0\n",
       "home_ownership_MORTGAGE                    0\n",
       "home_ownership_NONE                        0\n",
       "home_ownership_OTHER                       0\n",
       "home_ownership_OWN                         0\n",
       "home_ownership_RENT                        0\n",
       "verification_status_Not Verified           0\n",
       "verification_status_Source Verified        0\n",
       "verification_status_Verified               0\n",
       "purpose_car                                0\n",
       "purpose_credit_card                        0\n",
       "purpose_debt_consolidation                 0\n",
       "purpose_educational                        0\n",
       "purpose_home_improvement                   0\n",
       "purpose_house                              0\n",
       "purpose_major_purchase                     0\n",
       "purpose_medical                            0\n",
       "purpose_moving                             0\n",
       "purpose_other                              0\n",
       "purpose_renewable_energy                   0\n",
       "purpose_small_business                     0\n",
       "purpose_vacation                           0\n",
       "purpose_wedding                            0\n",
       "addr_state_AK                              0\n",
       "addr_state_AL                              0\n",
       "addr_state_AR                              0\n",
       "addr_state_AZ                              0\n",
       "addr_state_CA                              0\n",
       "addr_state_CO                              0\n",
       "addr_state_CT                              0\n",
       "addr_state_DC                              0\n",
       "addr_state_DE                              0\n",
       "addr_state_FL                              0\n",
       "addr_state_GA                              0\n",
       "addr_state_HI                              0\n",
       "addr_state_IA                              0\n",
       "addr_state_ID                              0\n",
       "addr_state_IL                              0\n",
       "addr_state_IN                              0\n",
       "addr_state_KS                              0\n",
       "addr_state_KY                              0\n",
       "addr_state_LA                              0\n",
       "addr_state_MA                              0\n",
       "addr_state_MD                              0\n",
       "addr_state_ME                              0\n",
       "addr_state_MI                              0\n",
       "addr_state_MN                              0\n",
       "addr_state_MO                              0\n",
       "addr_state_MS                              0\n",
       "addr_state_MT                              0\n",
       "addr_state_NC                              0\n",
       "addr_state_ND                              0\n",
       "addr_state_NE                              0\n",
       "addr_state_NH                              0\n",
       "addr_state_NJ                              0\n",
       "addr_state_NM                              0\n",
       "addr_state_NV                              0\n",
       "addr_state_NY                              0\n",
       "addr_state_OH                              0\n",
       "addr_state_OK                              0\n",
       "addr_state_OR                              0\n",
       "addr_state_PA                              0\n",
       "addr_state_RI                              0\n",
       "addr_state_SC                              0\n",
       "addr_state_SD                              0\n",
       "addr_state_TN                              0\n",
       "addr_state_TX                              0\n",
       "addr_state_UT                              0\n",
       "addr_state_VA                              0\n",
       "addr_state_VT                              0\n",
       "addr_state_WA                              0\n",
       "addr_state_WI                              0\n",
       "addr_state_WV                              0\n",
       "addr_state_WY                              0\n",
       "earliest_cr_line_month                     0\n",
       "earliest_cr_line_year                      0\n",
       "last_pymnt_d_month                         0\n",
       "last_pymnt_d_year                          0\n",
       "last_credit_pull_d_month                   0\n",
       "last_credit_pull_d_year                    0\n",
       "dtype: int64"
      ]
     },
     "execution_count": 70,
     "metadata": {},
     "output_type": "execute_result"
    }
   ],
   "source": [
    "df.isnull().sum()"
   ]
  },
  {
   "cell_type": "code",
   "execution_count": 71,
   "metadata": {},
   "outputs": [],
   "source": [
    "df['tot_coll_amt'].fillna(value = 0, inplace = True)\n",
    "df['tot_cur_bal'].fillna(value = 0, inplace = True)\n",
    "df['total_rev_hi_lim'].fillna(value = 0, inplace = True)\n",
    "\n"
   ]
  },
  {
   "cell_type": "code",
   "execution_count": null,
   "metadata": {},
   "outputs": [],
   "source": [
    "#df = df.drop('status', axis = 1)\n",
    "#df = df.drop('check', axis = 1)\n",
    "#df = df.drop('check2', axis = 1)\n",
    "df.isnull().sum()\n"
   ]
  },
  {
   "cell_type": "markdown",
   "metadata": {},
   "source": [
    "**4.5.1 Exporting Cleaned Data.**"
   ]
  },
  {
   "cell_type": "code",
   "execution_count": 2,
   "metadata": {},
   "outputs": [
    {
     "ename": "NameError",
     "evalue": "name 'df' is not defined",
     "output_type": "error",
     "traceback": [
      "\u001b[1;31m---------------------------------------------------------------------------\u001b[0m",
      "\u001b[1;31mNameError\u001b[0m                                 Traceback (most recent call last)",
      "\u001b[1;32m<ipython-input-2-e095841078cb>\u001b[0m in \u001b[0;36m<module>\u001b[1;34m\u001b[0m\n\u001b[1;32m----> 1\u001b[1;33m \u001b[0mdf\u001b[0m\u001b[1;33m.\u001b[0m\u001b[0mto_csv\u001b[0m\u001b[1;33m(\u001b[0m\u001b[1;34mr'C:\\Users\\Jason Dias\\cleaned_data_checkpoint1.csv'\u001b[0m\u001b[1;33m,\u001b[0m \u001b[0mindex\u001b[0m \u001b[1;33m=\u001b[0m \u001b[1;32mFalse\u001b[0m\u001b[1;33m)\u001b[0m\u001b[1;33m\u001b[0m\u001b[1;33m\u001b[0m\u001b[0m\n\u001b[0m",
      "\u001b[1;31mNameError\u001b[0m: name 'df' is not defined"
     ]
    }
   ],
   "source": [
    "df.to_csv(r'C:\\Users\\Jason Dias\\cleaned_data_checkpoint1.csv', index = False)"
   ]
  },
  {
   "cell_type": "code",
   "execution_count": 17,
   "metadata": {},
   "outputs": [
    {
     "data": {
      "text/plain": [
       "loan_amnt                              float64\n",
       "funded_amnt                            float64\n",
       "funded_amnt_inv                        float64\n",
       "int_rate                               float64\n",
       "installment                            float64\n",
       "grade                                    int64\n",
       "sub_grade                                int64\n",
       "emp_length                               int64\n",
       "annual_inc                             float64\n",
       "issue_d                                 object\n",
       "pymnt_plan                               int64\n",
       "dti                                    float64\n",
       "open_acc                               float64\n",
       "pub_rec                                float64\n",
       "revol_bal                              float64\n",
       "revol_util                             float64\n",
       "total_acc                              float64\n",
       "out_prncp                              float64\n",
       "out_prncp_inv                          float64\n",
       "total_pymnt                            float64\n",
       "total_pymnt_inv                        float64\n",
       "total_rec_prncp                        float64\n",
       "total_rec_int                          float64\n",
       "total_rec_late_fee                     float64\n",
       "recoveries                             float64\n",
       "last_pymnt_amnt                        float64\n",
       "collections_12_mths_ex_med             float64\n",
       "acc_now_delinq                         float64\n",
       "tot_coll_amt                             int64\n",
       "tot_cur_bal                              int64\n",
       "total_rev_hi_lim                         int64\n",
       "default_ind                              int64\n",
       "home_ownership_ANY                       int64\n",
       "home_ownership_MORTGAGE                  int64\n",
       "home_ownership_NONE                      int64\n",
       "home_ownership_OTHER                     int64\n",
       "home_ownership_OWN                       int64\n",
       "home_ownership_RENT                      int64\n",
       "verification_status_Not Verified         int64\n",
       "verification_status_Source Verified      int64\n",
       "verification_status_Verified             int64\n",
       "purpose_car                              int64\n",
       "purpose_credit_card                      int64\n",
       "purpose_debt_consolidation               int64\n",
       "purpose_educational                      int64\n",
       "purpose_home_improvement                 int64\n",
       "purpose_house                            int64\n",
       "purpose_major_purchase                   int64\n",
       "purpose_medical                          int64\n",
       "purpose_moving                           int64\n",
       "purpose_other                            int64\n",
       "purpose_renewable_energy                 int64\n",
       "purpose_small_business                   int64\n",
       "purpose_vacation                         int64\n",
       "purpose_wedding                          int64\n",
       "addr_state_AK                            int64\n",
       "addr_state_AL                            int64\n",
       "addr_state_AR                            int64\n",
       "addr_state_AZ                            int64\n",
       "addr_state_CA                            int64\n",
       "addr_state_CO                            int64\n",
       "addr_state_CT                            int64\n",
       "addr_state_DC                            int64\n",
       "addr_state_DE                            int64\n",
       "addr_state_FL                            int64\n",
       "addr_state_GA                            int64\n",
       "addr_state_HI                            int64\n",
       "addr_state_IA                            int64\n",
       "addr_state_ID                            int64\n",
       "addr_state_IL                            int64\n",
       "addr_state_IN                            int64\n",
       "addr_state_KS                            int64\n",
       "addr_state_KY                            int64\n",
       "addr_state_LA                            int64\n",
       "addr_state_MA                            int64\n",
       "addr_state_MD                            int64\n",
       "addr_state_ME                            int64\n",
       "addr_state_MI                            int64\n",
       "addr_state_MN                            int64\n",
       "addr_state_MO                            int64\n",
       "addr_state_MS                            int64\n",
       "addr_state_MT                            int64\n",
       "addr_state_NC                            int64\n",
       "addr_state_ND                            int64\n",
       "addr_state_NE                            int64\n",
       "addr_state_NH                            int64\n",
       "addr_state_NJ                            int64\n",
       "addr_state_NM                            int64\n",
       "addr_state_NV                            int64\n",
       "addr_state_NY                            int64\n",
       "addr_state_OH                            int64\n",
       "addr_state_OK                            int64\n",
       "addr_state_OR                            int64\n",
       "addr_state_PA                            int64\n",
       "addr_state_RI                            int64\n",
       "addr_state_SC                            int64\n",
       "addr_state_SD                            int64\n",
       "addr_state_TN                            int64\n",
       "addr_state_TX                            int64\n",
       "addr_state_UT                            int64\n",
       "addr_state_VA                            int64\n",
       "addr_state_VT                            int64\n",
       "addr_state_WA                            int64\n",
       "addr_state_WI                            int64\n",
       "addr_state_WV                            int64\n",
       "addr_state_WY                            int64\n",
       "earliest_cr_line_month                   int64\n",
       "earliest_cr_line_year                    int64\n",
       "last_pymnt_d_month                       int64\n",
       "last_pymnt_d_year                        int64\n",
       "last_credit_pull_d_month                 int64\n",
       "last_credit_pull_d_year                  int64\n",
       "dtype: object"
      ]
     },
     "execution_count": 17,
     "metadata": {},
     "output_type": "execute_result"
    }
   ],
   "source": [
    "df_cleaned = pd.read_csv(\"C:\\\\Users\\\\Jason Dias\\\\cleaned_data_checkpoint1.csv\", skipinitialspace=True)\n",
    "df_cleaned.dtypes"
   ]
  },
  {
   "cell_type": "code",
   "execution_count": 92,
   "metadata": {},
   "outputs": [
    {
     "name": "stdout",
     "output_type": "stream",
     "text": [
      "int_rate 0.15503707005602507\n",
      "total_rec_late_fee 0.14076021198489977\n",
      "recoveries 0.4757380487507909\n"
     ]
    },
    {
     "name": "stderr",
     "output_type": "stream",
     "text": [
      "c:\\users\\jason dias\\appdata\\local\\programs\\python\\python38\\lib\\site-packages\\scipy\\stats\\stats.py:3845: PearsonRConstantInputWarning: An input array is constant; the correlation coefficent is not defined.\n",
      "  warnings.warn(PearsonRConstantInputWarning())\n"
     ]
    },
    {
     "name": "stdout",
     "output_type": "stream",
     "text": [
      "default_ind 0.9999999999996629\n",
      "last_pymnt_d_month 0.10768459935992478\n",
      "last_credit_pull_d_month 0.1765574207278292\n"
     ]
    }
   ],
   "source": [
    "from scipy.stats import pearsonr \n",
    "for col in df_cleaned.columns:\n",
    "    if col == 'issue_d':\n",
    "        continue\n",
    "    first = df_cleaned[col]\n",
    "    second = df_cleaned['default_ind']\n",
    "    corr, _= pearsonr(first, second)\n",
    "    if corr > 0.1:\n",
    "        print(col,corr)\n",
    "    else:\n",
    "        continue\n"
   ]
  },
  {
   "cell_type": "code",
   "execution_count": 7,
   "metadata": {},
   "outputs": [
    {
     "data": {
      "text/plain": [
       "<AxesSubplot:>"
      ]
     },
     "execution_count": 7,
     "metadata": {},
     "output_type": "execute_result"
    },
    {
     "data": {
      "image/png": "[encoded data removed]",
      "text/plain": [
       "<Figure size 432x288 with 2 Axes>"
      ]
     },
     "metadata": {
      "needs_background": "light"
     },
     "output_type": "display_data"
    }
   ],
   "source": [
    "sns.heatmap(corr)"
   ]
  },
  {
   "cell_type": "markdown",
   "metadata": {},
   "source": [
    "**Clearing temporary columns created as well as issue_D based on which split was performed**"
   ]
  },
  {
   "cell_type": "code",
   "execution_count": 18,
   "metadata": {},
   "outputs": [
    {
     "data": {
      "text/html": [
       "<div>\n",
       "<style scoped>\n",
       "    .dataframe tbody tr th:only-of-type {\n",
       "        vertical-align: middle;\n",
       "    }\n",
       "\n",
       "    .dataframe tbody tr th {\n",
       "        vertical-align: top;\n",
       "    }\n",
       "\n",
       "    .dataframe thead th {\n",
       "        text-align: right;\n",
       "    }\n",
       "</style>\n",
       "<table border=\"1\" class=\"dataframe\">\n",
       "  <thead>\n",
       "    <tr style=\"text-align: right;\">\n",
       "      <th></th>\n",
       "      <th>loan_amnt</th>\n",
       "      <th>funded_amnt</th>\n",
       "      <th>funded_amnt_inv</th>\n",
       "      <th>int_rate</th>\n",
       "      <th>installment</th>\n",
       "      <th>grade</th>\n",
       "      <th>sub_grade</th>\n",
       "      <th>emp_length</th>\n",
       "      <th>annual_inc</th>\n",
       "      <th>issue_d</th>\n",
       "      <th>...</th>\n",
       "      <th>addr_state_WA</th>\n",
       "      <th>addr_state_WI</th>\n",
       "      <th>addr_state_WV</th>\n",
       "      <th>addr_state_WY</th>\n",
       "      <th>earliest_cr_line_month</th>\n",
       "      <th>earliest_cr_line_year</th>\n",
       "      <th>last_pymnt_d_month</th>\n",
       "      <th>last_pymnt_d_year</th>\n",
       "      <th>last_credit_pull_d_month</th>\n",
       "      <th>last_credit_pull_d_year</th>\n",
       "    </tr>\n",
       "  </thead>\n",
       "  <tbody>\n",
       "    <tr>\n",
       "      <th>0</th>\n",
       "      <td>5000.000</td>\n",
       "      <td>5000.000</td>\n",
       "      <td>4975.000</td>\n",
       "      <td>10.650</td>\n",
       "      <td>162.870</td>\n",
       "      <td>6</td>\n",
       "      <td>29</td>\n",
       "      <td>13</td>\n",
       "      <td>24000.000</td>\n",
       "      <td>2011-12-01</td>\n",
       "      <td>...</td>\n",
       "      <td>0</td>\n",
       "      <td>0</td>\n",
       "      <td>0</td>\n",
       "      <td>0</td>\n",
       "      <td>1</td>\n",
       "      <td>1985</td>\n",
       "      <td>1</td>\n",
       "      <td>2015</td>\n",
       "      <td>1</td>\n",
       "      <td>2016</td>\n",
       "    </tr>\n",
       "    <tr>\n",
       "      <th>1</th>\n",
       "      <td>2500.000</td>\n",
       "      <td>2500.000</td>\n",
       "      <td>2500.000</td>\n",
       "      <td>15.270</td>\n",
       "      <td>59.830</td>\n",
       "      <td>5</td>\n",
       "      <td>22</td>\n",
       "      <td>1</td>\n",
       "      <td>30000.000</td>\n",
       "      <td>2011-12-01</td>\n",
       "      <td>...</td>\n",
       "      <td>0</td>\n",
       "      <td>0</td>\n",
       "      <td>0</td>\n",
       "      <td>0</td>\n",
       "      <td>4</td>\n",
       "      <td>1999</td>\n",
       "      <td>4</td>\n",
       "      <td>2013</td>\n",
       "      <td>9</td>\n",
       "      <td>2013</td>\n",
       "    </tr>\n",
       "    <tr>\n",
       "      <th>2</th>\n",
       "      <td>2400.000</td>\n",
       "      <td>2400.000</td>\n",
       "      <td>2400.000</td>\n",
       "      <td>15.960</td>\n",
       "      <td>84.330</td>\n",
       "      <td>5</td>\n",
       "      <td>21</td>\n",
       "      <td>13</td>\n",
       "      <td>12252.000</td>\n",
       "      <td>2011-12-01</td>\n",
       "      <td>...</td>\n",
       "      <td>0</td>\n",
       "      <td>0</td>\n",
       "      <td>0</td>\n",
       "      <td>0</td>\n",
       "      <td>11</td>\n",
       "      <td>2001</td>\n",
       "      <td>6</td>\n",
       "      <td>2014</td>\n",
       "      <td>1</td>\n",
       "      <td>2016</td>\n",
       "    </tr>\n",
       "    <tr>\n",
       "      <th>3</th>\n",
       "      <td>10000.000</td>\n",
       "      <td>10000.000</td>\n",
       "      <td>10000.000</td>\n",
       "      <td>13.490</td>\n",
       "      <td>339.310</td>\n",
       "      <td>5</td>\n",
       "      <td>25</td>\n",
       "      <td>13</td>\n",
       "      <td>49200.000</td>\n",
       "      <td>2011-12-01</td>\n",
       "      <td>...</td>\n",
       "      <td>0</td>\n",
       "      <td>0</td>\n",
       "      <td>0</td>\n",
       "      <td>0</td>\n",
       "      <td>2</td>\n",
       "      <td>1996</td>\n",
       "      <td>1</td>\n",
       "      <td>2015</td>\n",
       "      <td>1</td>\n",
       "      <td>2015</td>\n",
       "    </tr>\n",
       "    <tr>\n",
       "      <th>4</th>\n",
       "      <td>3000.000</td>\n",
       "      <td>3000.000</td>\n",
       "      <td>3000.000</td>\n",
       "      <td>12.690</td>\n",
       "      <td>67.790</td>\n",
       "      <td>6</td>\n",
       "      <td>26</td>\n",
       "      <td>2</td>\n",
       "      <td>80000.000</td>\n",
       "      <td>2011-12-01</td>\n",
       "      <td>...</td>\n",
       "      <td>0</td>\n",
       "      <td>0</td>\n",
       "      <td>0</td>\n",
       "      <td>0</td>\n",
       "      <td>1</td>\n",
       "      <td>1996</td>\n",
       "      <td>1</td>\n",
       "      <td>2016</td>\n",
       "      <td>1</td>\n",
       "      <td>2016</td>\n",
       "    </tr>\n",
       "    <tr>\n",
       "      <th>...</th>\n",
       "      <td>...</td>\n",
       "      <td>...</td>\n",
       "      <td>...</td>\n",
       "      <td>...</td>\n",
       "      <td>...</td>\n",
       "      <td>...</td>\n",
       "      <td>...</td>\n",
       "      <td>...</td>\n",
       "      <td>...</td>\n",
       "      <td>...</td>\n",
       "      <td>...</td>\n",
       "      <td>...</td>\n",
       "      <td>...</td>\n",
       "      <td>...</td>\n",
       "      <td>...</td>\n",
       "      <td>...</td>\n",
       "      <td>...</td>\n",
       "      <td>...</td>\n",
       "      <td>...</td>\n",
       "      <td>...</td>\n",
       "      <td>...</td>\n",
       "    </tr>\n",
       "    <tr>\n",
       "      <th>855964</th>\n",
       "      <td>10000.000</td>\n",
       "      <td>10000.000</td>\n",
       "      <td>10000.000</td>\n",
       "      <td>11.990</td>\n",
       "      <td>332.100</td>\n",
       "      <td>6</td>\n",
       "      <td>26</td>\n",
       "      <td>11</td>\n",
       "      <td>31000.000</td>\n",
       "      <td>2015-01-01</td>\n",
       "      <td>...</td>\n",
       "      <td>0</td>\n",
       "      <td>0</td>\n",
       "      <td>0</td>\n",
       "      <td>0</td>\n",
       "      <td>9</td>\n",
       "      <td>2004</td>\n",
       "      <td>1</td>\n",
       "      <td>2016</td>\n",
       "      <td>1</td>\n",
       "      <td>2016</td>\n",
       "    </tr>\n",
       "    <tr>\n",
       "      <th>855965</th>\n",
       "      <td>24000.000</td>\n",
       "      <td>24000.000</td>\n",
       "      <td>24000.000</td>\n",
       "      <td>11.990</td>\n",
       "      <td>797.030</td>\n",
       "      <td>6</td>\n",
       "      <td>26</td>\n",
       "      <td>13</td>\n",
       "      <td>79000.000</td>\n",
       "      <td>2015-01-01</td>\n",
       "      <td>...</td>\n",
       "      <td>0</td>\n",
       "      <td>0</td>\n",
       "      <td>0</td>\n",
       "      <td>0</td>\n",
       "      <td>3</td>\n",
       "      <td>1974</td>\n",
       "      <td>1</td>\n",
       "      <td>2016</td>\n",
       "      <td>1</td>\n",
       "      <td>2016</td>\n",
       "    </tr>\n",
       "    <tr>\n",
       "      <th>855966</th>\n",
       "      <td>13000.000</td>\n",
       "      <td>13000.000</td>\n",
       "      <td>13000.000</td>\n",
       "      <td>15.990</td>\n",
       "      <td>316.070</td>\n",
       "      <td>4</td>\n",
       "      <td>19</td>\n",
       "      <td>8</td>\n",
       "      <td>35000.000</td>\n",
       "      <td>2015-01-01</td>\n",
       "      <td>...</td>\n",
       "      <td>0</td>\n",
       "      <td>0</td>\n",
       "      <td>0</td>\n",
       "      <td>0</td>\n",
       "      <td>9</td>\n",
       "      <td>2003</td>\n",
       "      <td>1</td>\n",
       "      <td>2016</td>\n",
       "      <td>1</td>\n",
       "      <td>2016</td>\n",
       "    </tr>\n",
       "    <tr>\n",
       "      <th>855967</th>\n",
       "      <td>12000.000</td>\n",
       "      <td>12000.000</td>\n",
       "      <td>12000.000</td>\n",
       "      <td>19.990</td>\n",
       "      <td>317.860</td>\n",
       "      <td>3</td>\n",
       "      <td>13</td>\n",
       "      <td>2</td>\n",
       "      <td>64400.000</td>\n",
       "      <td>2015-01-01</td>\n",
       "      <td>...</td>\n",
       "      <td>0</td>\n",
       "      <td>0</td>\n",
       "      <td>0</td>\n",
       "      <td>0</td>\n",
       "      <td>10</td>\n",
       "      <td>2003</td>\n",
       "      <td>1</td>\n",
       "      <td>2016</td>\n",
       "      <td>1</td>\n",
       "      <td>2016</td>\n",
       "    </tr>\n",
       "    <tr>\n",
       "      <th>855968</th>\n",
       "      <td>20000.000</td>\n",
       "      <td>20000.000</td>\n",
       "      <td>20000.000</td>\n",
       "      <td>11.990</td>\n",
       "      <td>664.200</td>\n",
       "      <td>6</td>\n",
       "      <td>26</td>\n",
       "      <td>13</td>\n",
       "      <td>100000.000</td>\n",
       "      <td>2015-01-01</td>\n",
       "      <td>...</td>\n",
       "      <td>0</td>\n",
       "      <td>0</td>\n",
       "      <td>0</td>\n",
       "      <td>0</td>\n",
       "      <td>12</td>\n",
       "      <td>2001</td>\n",
       "      <td>1</td>\n",
       "      <td>2016</td>\n",
       "      <td>1</td>\n",
       "      <td>2016</td>\n",
       "    </tr>\n",
       "  </tbody>\n",
       "</table>\n",
       "<p>855969 rows × 112 columns</p>\n",
       "</div>"
      ],
      "text/plain": [
       "        loan_amnt  funded_amnt  funded_amnt_inv  int_rate  installment  grade  \\\n",
       "0        5000.000     5000.000         4975.000    10.650      162.870      6   \n",
       "1        2500.000     2500.000         2500.000    15.270       59.830      5   \n",
       "2        2400.000     2400.000         2400.000    15.960       84.330      5   \n",
       "3       10000.000    10000.000        10000.000    13.490      339.310      5   \n",
       "4        3000.000     3000.000         3000.000    12.690       67.790      6   \n",
       "...           ...          ...              ...       ...          ...    ...   \n",
       "855964  10000.000    10000.000        10000.000    11.990      332.100      6   \n",
       "855965  24000.000    24000.000        24000.000    11.990      797.030      6   \n",
       "855966  13000.000    13000.000        13000.000    15.990      316.070      4   \n",
       "855967  12000.000    12000.000        12000.000    19.990      317.860      3   \n",
       "855968  20000.000    20000.000        20000.000    11.990      664.200      6   \n",
       "\n",
       "        sub_grade  emp_length  annual_inc    issue_d  ...  addr_state_WA  \\\n",
       "0              29          13   24000.000 2011-12-01  ...              0   \n",
       "1              22           1   30000.000 2011-12-01  ...              0   \n",
       "2              21          13   12252.000 2011-12-01  ...              0   \n",
       "3              25          13   49200.000 2011-12-01  ...              0   \n",
       "4              26           2   80000.000 2011-12-01  ...              0   \n",
       "...           ...         ...         ...        ...  ...            ...   \n",
       "855964         26          11   31000.000 2015-01-01  ...              0   \n",
       "855965         26          13   79000.000 2015-01-01  ...              0   \n",
       "855966         19           8   35000.000 2015-01-01  ...              0   \n",
       "855967         13           2   64400.000 2015-01-01  ...              0   \n",
       "855968         26          13  100000.000 2015-01-01  ...              0   \n",
       "\n",
       "        addr_state_WI  addr_state_WV  addr_state_WY  earliest_cr_line_month  \\\n",
       "0                   0              0              0                       1   \n",
       "1                   0              0              0                       4   \n",
       "2                   0              0              0                      11   \n",
       "3                   0              0              0                       2   \n",
       "4                   0              0              0                       1   \n",
       "...               ...            ...            ...                     ...   \n",
       "855964              0              0              0                       9   \n",
       "855965              0              0              0                       3   \n",
       "855966              0              0              0                       9   \n",
       "855967              0              0              0                      10   \n",
       "855968              0              0              0                      12   \n",
       "\n",
       "        earliest_cr_line_year  last_pymnt_d_month  last_pymnt_d_year  \\\n",
       "0                        1985                   1               2015   \n",
       "1                        1999                   4               2013   \n",
       "2                        2001                   6               2014   \n",
       "3                        1996                   1               2015   \n",
       "4                        1996                   1               2016   \n",
       "...                       ...                 ...                ...   \n",
       "855964                   2004                   1               2016   \n",
       "855965                   1974                   1               2016   \n",
       "855966                   2003                   1               2016   \n",
       "855967                   2003                   1               2016   \n",
       "855968                   2001                   1               2016   \n",
       "\n",
       "        last_credit_pull_d_month  last_credit_pull_d_year  \n",
       "0                              1                     2016  \n",
       "1                              9                     2013  \n",
       "2                              1                     2016  \n",
       "3                              1                     2015  \n",
       "4                              1                     2016  \n",
       "...                          ...                      ...  \n",
       "855964                         1                     2016  \n",
       "855965                         1                     2016  \n",
       "855966                         1                     2016  \n",
       "855967                         1                     2016  \n",
       "855968                         1                     2016  \n",
       "\n",
       "[855969 rows x 112 columns]"
      ]
     },
     "execution_count": 18,
     "metadata": {},
     "output_type": "execute_result"
    }
   ],
   "source": [
    "df_cleaned['issue_d'] = pd.to_datetime(df_cleaned['issue_d'])\n",
    "df_cleaned"
   ]
  },
  {
   "cell_type": "markdown",
   "metadata": {},
   "source": [
    "# 5.Model Building and Testing"
   ]
  },
  {
   "cell_type": "markdown",
   "metadata": {},
   "source": [
    "**5.1 Splitting Data Based on Date**"
   ]
  },
  {
   "cell_type": "code",
   "execution_count": 19,
   "metadata": {},
   "outputs": [
    {
     "data": {
      "text/plain": [
       "loan_amnt                              0\n",
       "funded_amnt                            0\n",
       "funded_amnt_inv                        0\n",
       "int_rate                               0\n",
       "installment                            0\n",
       "grade                                  0\n",
       "sub_grade                              0\n",
       "emp_length                             0\n",
       "annual_inc                             0\n",
       "pymnt_plan                             0\n",
       "dti                                    0\n",
       "open_acc                               0\n",
       "pub_rec                                0\n",
       "revol_bal                              0\n",
       "revol_util                             0\n",
       "total_acc                              0\n",
       "out_prncp                              0\n",
       "out_prncp_inv                          0\n",
       "total_pymnt                            0\n",
       "total_pymnt_inv                        0\n",
       "total_rec_prncp                        0\n",
       "total_rec_int                          0\n",
       "total_rec_late_fee                     0\n",
       "recoveries                             0\n",
       "last_pymnt_amnt                        0\n",
       "collections_12_mths_ex_med             0\n",
       "acc_now_delinq                         0\n",
       "tot_coll_amt                           0\n",
       "tot_cur_bal                            0\n",
       "total_rev_hi_lim                       0\n",
       "default_ind                            0\n",
       "home_ownership_ANY                     0\n",
       "home_ownership_MORTGAGE                0\n",
       "home_ownership_NONE                    0\n",
       "home_ownership_OTHER                   0\n",
       "home_ownership_OWN                     0\n",
       "home_ownership_RENT                    0\n",
       "verification_status_Not Verified       0\n",
       "verification_status_Source Verified    0\n",
       "verification_status_Verified           0\n",
       "purpose_car                            0\n",
       "purpose_credit_card                    0\n",
       "purpose_debt_consolidation             0\n",
       "purpose_educational                    0\n",
       "purpose_home_improvement               0\n",
       "purpose_house                          0\n",
       "purpose_major_purchase                 0\n",
       "purpose_medical                        0\n",
       "purpose_moving                         0\n",
       "purpose_other                          0\n",
       "purpose_renewable_energy               0\n",
       "purpose_small_business                 0\n",
       "purpose_vacation                       0\n",
       "purpose_wedding                        0\n",
       "addr_state_AK                          0\n",
       "addr_state_AL                          0\n",
       "addr_state_AR                          0\n",
       "addr_state_AZ                          0\n",
       "addr_state_CA                          0\n",
       "addr_state_CO                          0\n",
       "addr_state_CT                          0\n",
       "addr_state_DC                          0\n",
       "addr_state_DE                          0\n",
       "addr_state_FL                          0\n",
       "addr_state_GA                          0\n",
       "addr_state_HI                          0\n",
       "addr_state_IA                          0\n",
       "addr_state_ID                          0\n",
       "addr_state_IL                          0\n",
       "addr_state_IN                          0\n",
       "addr_state_KS                          0\n",
       "addr_state_KY                          0\n",
       "addr_state_LA                          0\n",
       "addr_state_MA                          0\n",
       "addr_state_MD                          0\n",
       "addr_state_ME                          0\n",
       "addr_state_MI                          0\n",
       "addr_state_MN                          0\n",
       "addr_state_MO                          0\n",
       "addr_state_MS                          0\n",
       "addr_state_MT                          0\n",
       "addr_state_NC                          0\n",
       "addr_state_ND                          0\n",
       "addr_state_NE                          0\n",
       "addr_state_NH                          0\n",
       "addr_state_NJ                          0\n",
       "addr_state_NM                          0\n",
       "addr_state_NV                          0\n",
       "addr_state_NY                          0\n",
       "addr_state_OH                          0\n",
       "addr_state_OK                          0\n",
       "addr_state_OR                          0\n",
       "addr_state_PA                          0\n",
       "addr_state_RI                          0\n",
       "addr_state_SC                          0\n",
       "addr_state_SD                          0\n",
       "addr_state_TN                          0\n",
       "addr_state_TX                          0\n",
       "addr_state_UT                          0\n",
       "addr_state_VA                          0\n",
       "addr_state_VT                          0\n",
       "addr_state_WA                          0\n",
       "addr_state_WI                          0\n",
       "addr_state_WV                          0\n",
       "addr_state_WY                          0\n",
       "earliest_cr_line_month                 0\n",
       "earliest_cr_line_year                  0\n",
       "last_pymnt_d_month                     0\n",
       "last_pymnt_d_year                      0\n",
       "last_credit_pull_d_month               0\n",
       "last_credit_pull_d_year                0\n",
       "dtype: int64"
      ]
     },
     "execution_count": 19,
     "metadata": {},
     "output_type": "execute_result"
    }
   ],
   "source": [
    "df_train = df_cleaned[df_cleaned['issue_d'] <= 'May-2015']\n",
    "df_train = df_train.drop('issue_d', axis = 1)\n",
    "df_train\n",
    "df_test = df_cleaned[df_cleaned['issue_d'] >= 'Jun-2015']\n",
    "df_test = df_test.drop('issue_d', axis = 1)\n",
    "df_test\n",
    "\n",
    "df_train.isnull().sum()"
   ]
  },
  {
   "cell_type": "code",
   "execution_count": null,
   "metadata": {},
   "outputs": [],
   "source": [
    "                            0\n",
    "total_pymnt_inv                        0\n",
    "total_rec_prncp                        0\n",
    "total_rec_int                          0\n",
    "total_rec_late_fee                     0\n",
    "recoveries                             0\n",
    "last_pymnt_amnt                        0\n",
    "collections_12_mths_ex_med             0\n",
    "acc_now_delinq                         0\n",
    "tot_coll_amt                           0\n",
    "tot_cur_bal                            0\n",
    "total_rev_hi_lim                "
   ]
  },
  {
   "cell_type": "code",
   "execution_count": 42,
   "metadata": {},
   "outputs": [],
   "source": [
    "from sklearn.preprocessing import StandardScaler\n",
    "df_train_x = pd.DataFrame(df_train.drop('default_ind', axis = 1))\n",
    "df_train_x\n",
    "df_train_y = pd.DataFrame(df_train['default_ind'])\n",
    "df_train_y\n",
    "df_test_x = pd.DataFrame(df_test.drop('default_ind', axis = 1))\n",
    "df_test_x\n",
    "df_test_y = pd.DataFrame(df_test['default_ind'])\n",
    "df_test_y\n",
    "\n",
    "scaler = StandardScaler()\n",
    "\n",
    "\n",
    "df_train_x_copy = df_train_x.copy()\n",
    "df_test_x_copy = df_test_x.copy()\n",
    "\n",
    "\n",
    "numericals = ['loan_amnt', 'funded_amnt', 'funded_amnt_inv', 'int_rate', 'installment','grade','sub_grade','emp_length'\n",
    "              ,'annual_inc','pymnt_plan','dti','open_acc','pub_rec','revol_bal','revol_util','total_acc','out_prncp','out_prncp_inv',\n",
    "              'total_pymnt','total_pymnt_inv', 'total_rec_prncp', 'total_rec_int', 'total_rec_late_fee', 'recoveries', 'last_pymnt_amnt', 'collections_12_mths_ex_med',\n",
    "              'acc_now_delinq', 'tot_coll_amt', 'tot_cur_bal', 'total_rev_hi_lim', 'earliest_cr_line_month', 'earliest_cr_line_year',\n",
    "              'last_pymnt_d_month','last_pymnt_d_year','last_credit_pull_d_month','last_credit_pull_d_year'\n",
    "]\n",
    "\n",
    "\n",
    "\n",
    "for col in numericals:\n",
    "    scale = StandardScaler().fit(df_train_x_copy[[col]])\n",
    "    df_train_x_copy[col] = scale.transform(df_train_x_copy[[col]])\n",
    "    df_test_x_copy[col] = scale.transform(df_test_x_copy[[col]])\n",
    "    \n"
   ]
  },
  {
   "cell_type": "code",
   "execution_count": 6,
   "metadata": {},
   "outputs": [
    {
     "data": {
      "text/plain": [
       "(256991, 110)"
      ]
     },
     "execution_count": 6,
     "metadata": {},
     "output_type": "execute_result"
    }
   ],
   "source": [
    "df_test_x_copy.shape"
   ]
  },
  {
   "cell_type": "code",
   "execution_count": 7,
   "metadata": {},
   "outputs": [
    {
     "data": {
      "text/plain": [
       "(598978, 110)"
      ]
     },
     "execution_count": 7,
     "metadata": {},
     "output_type": "execute_result"
    }
   ],
   "source": [
    "df_train_x_copy.shape"
   ]
  },
  {
   "cell_type": "code",
   "execution_count": 7,
   "metadata": {},
   "outputs": [],
   "source": [
    "df_train_x_copy.to_csv(r'C:\\Users\\Jason Dias\\train_x_copy.csv', index = False)\n",
    "df_test_x_copy.to_csv(r'C:\\Users\\Jason Dias\\train_y_copy.csv', index = False)\n",
    "df_train_y.to_csv(r'C:\\Users\\Jason Dias\\df_train_y.csv', index = False)\n",
    "df_test_y.to_csv(r'C:\\Users\\Jason Dias\\df_test_y.csv', index = False)"
   ]
  },
  {
   "cell_type": "markdown",
   "metadata": {},
   "source": [
    "**5.2 LogisticsRegression Model building.**"
   ]
  },
  {
   "cell_type": "code",
   "execution_count": 35,
   "metadata": {},
   "outputs": [
    {
     "name": "stderr",
     "output_type": "stream",
     "text": [
      "c:\\users\\jason dias\\appdata\\local\\programs\\python\\python38\\lib\\site-packages\\sklearn\\utils\\validation.py:72: DataConversionWarning: A column-vector y was passed when a 1d array was expected. Please change the shape of y to (n_samples, ), for example using ravel().\n",
      "  return f(**kwargs)\n",
      "c:\\users\\jason dias\\appdata\\local\\programs\\python\\python38\\lib\\site-packages\\sklearn\\linear_model\\_logistic.py:762: ConvergenceWarning: lbfgs failed to converge (status=1):\n",
      "STOP: TOTAL NO. of ITERATIONS REACHED LIMIT.\n",
      "\n",
      "Increase the number of iterations (max_iter) or scale the data as shown in:\n",
      "    https://scikit-learn.org/stable/modules/preprocessing.html\n",
      "Please also refer to the documentation for alternative solver options:\n",
      "    https://scikit-learn.org/stable/modules/linear_model.html#logistic-regression\n",
      "  n_iter_i = _check_optimize_result(\n"
     ]
    }
   ],
   "source": [
    "from sklearn.linear_model import LogisticRegression\n",
    "from sklearn.metrics import accuracy_score, confusion_matrix, roc_curve, roc_auc_score\n",
    "\n",
    "model = LogisticRegression(max_iter=100)\n",
    "model.fit(df_train_x_copy, df_train_y)\n",
    "prediction = model.predict(df_test_x_copy)\n"
   ]
  },
  {
   "cell_type": "code",
   "execution_count": 37,
   "metadata": {},
   "outputs": [
    {
     "name": "stdout",
     "output_type": "stream",
     "text": [
      "0.9995174928304882\n",
      "[[256620     60]\n",
      " [    64    247]]\n",
      "None\n",
      "F1 SCORE: 0.7993527508090615\n",
      "PRECISION SCORE 0.8045602605863192\n",
      "ROC_AUC Score 0.8969892322794105\n"
     ]
    }
   ],
   "source": [
    "accuracy = accuracy_score(df_test_y, prediction)\n",
    "\n",
    "print(accuracy)\n",
    "\n",
    "print(confusion_matrix(df_test_y, prediction))\n",
    "print(accuracy3)\n",
    "print('F1 SCORE:', f1_score(df_test_y, prediction))\n",
    "print('PRECISION SCORE',precision_score(df_test_y, prediction))\n",
    "print('ROC_AUC Score', roc_auc_score(df_test_y, prediction))"
   ]
  },
  {
   "cell_type": "markdown",
   "metadata": {},
   "source": [
    "**5.2.1 Cross Validation and Best Model Search.**"
   ]
  },
  {
   "cell_type": "code",
   "execution_count": 38,
   "metadata": {},
   "outputs": [
    {
     "name": "stdout",
     "output_type": "stream",
     "text": [
      "0.9439793236794886\n"
     ]
    }
   ],
   "source": [
    "from sklearn.model_selection import cross_val_score\n",
    "from sklearn import svm\n",
    "from sklearn.pipeline import make_pipeline\n",
    "from sklearn.svm import SVC\n",
    "from sklearn.preprocessing import StandardScaler\n",
    "from sklearn.datasets import make_classification\n",
    "from sklearn.model_selection import RepeatedKFold\n",
    "from sklearn.linear_model import LogisticRegression\n",
    "\n",
    "\n",
    "df_train_x_copy,df_train_y = make_classification(n_samples=1000, n_features=20, n_informative=15, n_redundant=5, random_state=1)\n",
    "\n",
    "cv = RepeatedKFold(n_splits=10, n_repeats=3, random_state=1)\n",
    "\n",
    "model = LogisticRegression()\n",
    "\n",
    "scores = cross_val_score(model, df_train_x_copy,df_train_y, scoring='roc_auc', cv=cv, n_jobs=-1)\n",
    "\n",
    "print(scores.mean())"
   ]
  },
  {
   "cell_type": "code",
   "execution_count": 22,
   "metadata": {},
   "outputs": [
    {
     "name": "stderr",
     "output_type": "stream",
     "text": [
      "c:\\users\\jason dias\\appdata\\local\\programs\\python\\python38\\lib\\site-packages\\sklearn\\utils\\validation.py:72: DataConversionWarning: A column-vector y was passed when a 1d array was expected. Please change the shape of y to (n_samples, ), for example using ravel().\n",
      "  return f(**kwargs)\n"
     ]
    },
    {
     "name": "stdout",
     "output_type": "stream",
     "text": [
      "Best Score: 0.995525608303365\n",
      "Best parameters of model: {'C': 1, 'penalty': 'l2', 'solver': 'lbfgs'}\n",
      "Best Estimator : LogisticRegression(C=1)\n"
     ]
    },
    {
     "name": "stderr",
     "output_type": "stream",
     "text": [
      "c:\\users\\jason dias\\appdata\\local\\programs\\python\\python38\\lib\\site-packages\\sklearn\\linear_model\\_logistic.py:762: ConvergenceWarning: lbfgs failed to converge (status=1):\n",
      "STOP: TOTAL NO. of ITERATIONS REACHED LIMIT.\n",
      "\n",
      "Increase the number of iterations (max_iter) or scale the data as shown in:\n",
      "    https://scikit-learn.org/stable/modules/preprocessing.html\n",
      "Please also refer to the documentation for alternative solver options:\n",
      "    https://scikit-learn.org/stable/modules/linear_model.html#logistic-regression\n",
      "  n_iter_i = _check_optimize_result(\n"
     ]
    }
   ],
   "source": [
    "from sklearn.model_selection import GridSearchCV\n",
    "c = [1,10]\n",
    "grid = dict(solver = ['lbfgs','rbf'], penalty = ['l2','l1'], C =c)\n",
    "grid_search = GridSearchCV(estimator = LogisticRegression(), param_grid = grid, n_jobs = -1, cv = 10, scoring = 'roc_auc')\n",
    "result = grid_search.fit(df_train_x_copy, df_train_y)\n",
    "print('Best Score:',result.best_score_)\n",
    "print('Best parameters of model:',result.best_params_)\n",
    "print('Best Estimator :', result.best_estimator_)\n"
   ]
  },
  {
   "cell_type": "code",
   "execution_count": 40,
   "metadata": {},
   "outputs": [
    {
     "data": {
      "image/png": "[encoded data removed]",
      "text/plain": [
       "<Figure size 432x288 with 1 Axes>"
      ]
     },
     "metadata": {
      "needs_background": "light"
     },
     "output_type": "display_data"
    }
   ],
   "source": [
    "fpr1, tpr1, threshold1 = metrics.roc_curve(df_test_y, prediction)\n",
    "roc_auc1 = metrics.auc(fpr1, tpr1)\n",
    "\n",
    "import matplotlib.pyplot as plt\n",
    "plt.title('Receiver Operating Characteristic')\n",
    "plt.plot(fpr1, tpr1, 'b', label = 'AUC = %0.2f' % roc_auc1)\n",
    "plt.legend(loc = 'lower right')\n",
    "plt.plot([0, 1], [0, 1],'r--')\n",
    "plt.xlim([0, 1])\n",
    "plt.ylim([0, 1])\n",
    "plt.ylabel('True Positive Rate')\n",
    "plt.xlabel('False Positive Rate')\n",
    "plt.show()"
   ]
  },
  {
   "cell_type": "markdown",
   "metadata": {},
   "source": [
    "**5.3 RandomForestClassifier Model building.**"
   ]
  },
  {
   "cell_type": "code",
   "execution_count": 8,
   "metadata": {},
   "outputs": [
    {
     "name": "stderr",
     "output_type": "stream",
     "text": [
      "<ipython-input-8-5bfeb85f4679>:3: DataConversionWarning: A column-vector y was passed when a 1d array was expected. Please change the shape of y to (n_samples,), for example using ravel().\n",
      "  model2.fit(df_train_x_copy, df_train_y)\n"
     ]
    }
   ],
   "source": [
    "from sklearn.ensemble import RandomForestClassifier\n",
    "model2 = RandomForestClassifier()\n",
    "model2.fit(df_train_x_copy, df_train_y)\n",
    "\n",
    "prediction2 = model2.predict(df_test_x_copy)\n"
   ]
  },
  {
   "cell_type": "code",
   "execution_count": 13,
   "metadata": {},
   "outputs": [
    {
     "name": "stdout",
     "output_type": "stream",
     "text": [
      "[[233450  23230]\n",
      " [     2    309]]\n",
      "Accuracy: 0.9095999470798588\n",
      "F1 SCORE: 0.02591194968553459\n",
      "PRECISION SCORE 0.013127150686095415\n",
      "ROC_AUC Score 0.9515336698590511\n"
     ]
    }
   ],
   "source": [
    "accuracy = accuracy_score(df_test_y, prediction2)\n",
    "print(confusion_matrix(df_test_y, prediction2))\n",
    "print(\"Accuracy:\",metrics.accuracy_score(df_test_y, prediction2))\n",
    "print('F1 SCORE:', f1_score(df_test_y, prediction2))\n",
    "print('PRECISION SCORE',precision_score(df_test_y, prediction2))\n",
    "print('ROC_AUC Score', roc_auc_score(df_test_y, prediction2))\n"
   ]
  },
  {
   "cell_type": "code",
   "execution_count": 151,
   "metadata": {},
   "outputs": [
    {
     "name": "stdout",
     "output_type": "stream",
     "text": [
      "['__abstractmethods__', '__annotations__', '__class__', '__delattr__', '__dict__', '__dir__', '__doc__', '__eq__', '__format__', '__ge__', '__getattribute__', '__getitem__', '__getstate__', '__gt__', '__hash__', '__init__', '__init_subclass__', '__iter__', '__le__', '__len__', '__lt__', '__module__', '__ne__', '__new__', '__reduce__', '__reduce_ex__', '__repr__', '__setattr__', '__setstate__', '__sizeof__', '__str__', '__subclasshook__', '__weakref__', '_abc_impl', '_check_n_features', '_estimator_type', '_get_param_names', '_get_tags', '_make_estimator', '_more_tags', '_repr_html_', '_repr_html_inner', '_repr_mimebundle_', '_required_parameters', '_set_oob_score', '_validate_X_predict', '_validate_data', '_validate_estimator', '_validate_y_class_weight', 'apply', 'base_estimator', 'base_estimator_', 'bootstrap', 'ccp_alpha', 'class_weight', 'classes_', 'criterion', 'decision_path', 'estimator_params', 'estimators_', 'feature_importances_', 'fit', 'get_params', 'max_depth', 'max_features', 'max_leaf_nodes', 'max_samples', 'min_impurity_decrease', 'min_impurity_split', 'min_samples_leaf', 'min_samples_split', 'min_weight_fraction_leaf', 'n_classes_', 'n_estimators', 'n_features_', 'n_features_in_', 'n_jobs', 'n_outputs_', 'oob_score', 'predict', 'predict_log_proba', 'predict_proba', 'random_state', 'score', 'set_params', 'verbose', 'warm_start']\n"
     ]
    }
   ],
   "source": [
    "print(dir(model2))"
   ]
  },
  {
   "cell_type": "markdown",
   "metadata": {},
   "source": [
    "**5.3.1 Cross Validation and Best Model Search.**"
   ]
  },
  {
   "cell_type": "code",
   "execution_count": 14,
   "metadata": {},
   "outputs": [
    {
     "name": "stdout",
     "output_type": "stream",
     "text": [
      "0.9778731043204225\n"
     ]
    }
   ],
   "source": [
    "from sklearn.datasets import make_classification\n",
    "\n",
    "df_train_x_copy,df_train_y = make_classification(n_samples=1000, n_features=20, n_informative=15, n_redundant=5, random_state=1)\n",
    "\n",
    "cv = RepeatedKFold(n_splits=10, n_repeats=3, random_state=1)\n",
    "\n",
    "model2 = model2 \n",
    "\n",
    "scores = cross_val_score(model2, df_train_x_copy,df_train_y, scoring='roc_auc', cv=cv, n_jobs=-1)\n",
    "\n",
    "print(scores.mean())"
   ]
  },
  {
   "cell_type": "code",
   "execution_count": 43,
   "metadata": {},
   "outputs": [
    {
     "name": "stderr",
     "output_type": "stream",
     "text": [
      "c:\\users\\jason dias\\appdata\\local\\programs\\python\\python38\\lib\\site-packages\\sklearn\\model_selection\\_search.py:765: DataConversionWarning: A column-vector y was passed when a 1d array was expected. Please change the shape of y to (n_samples,), for example using ravel().\n",
      "  self.best_estimator_.fit(X, y, **fit_params)\n"
     ]
    },
    {
     "name": "stdout",
     "output_type": "stream",
     "text": [
      "Best Score: 0.9934674189004818\n",
      "Best parameters of model: {'criterion': 'entropy', 'max_depth': 7, 'max_features': 'auto', 'n_estimators': 25}\n",
      "Best Estimator : RandomForestClassifier(criterion='entropy', max_depth=7, n_estimators=25,\n",
      "                       n_jobs=-1, random_state=1)\n"
     ]
    }
   ],
   "source": [
    "from sklearn.model_selection import GridSearchCV\n",
    "\n",
    "grid_search2 = GridSearchCV(estimator = RandomForestClassifier(n_jobs=-1, random_state=1,bootstrap=True, class_weight=None, criterion='gini'), param_grid = {'n_estimators': [25], 'max_features': ['auto', 'sqrt', 'log2'], 'max_depth': [4, 5, 6,7], 'criterion': ['gini', 'entropy']}, n_jobs = -1, cv = 3, scoring = 'roc_auc')\n",
    "result2 = grid_search2.fit(df_train_x_copy, df_train_y)\n",
    "print('Best Score:',result2.best_score_)\n",
    "print('Best parameters of model:',result2.best_params_)\n",
    "print('Best Estimator :', result2.best_estimator_)\n"
   ]
  },
  {
   "cell_type": "code",
   "execution_count": 272,
   "metadata": {},
   "outputs": [
    {
     "data": {
      "image/png": "[encoded data removed]",
      "text/plain": [
       "<Figure size 432x288 with 1 Axes>"
      ]
     },
     "metadata": {
      "needs_background": "light"
     },
     "output_type": "display_data"
    }
   ],
   "source": [
    "fpr2, tpr2, threshold2 = metrics.roc_curve(df_test_y, prediction2)\n",
    "roc_auc = metrics.auc(fpr2, tpr2)\n",
    "\n",
    "import matplotlib.pyplot as plt\n",
    "plt.title('Receiver Operating Characteristic')\n",
    "plt.plot(fpr2, tpr2, 'b', label = 'AUC = %0.2f' % roc_auc)\n",
    "plt.legend(loc = 'lower right')\n",
    "plt.plot([0, 1], [0, 1],'r--')\n",
    "plt.xlim([0, 1])\n",
    "plt.ylim([0, 1])\n",
    "plt.ylabel('True Positive Rate')\n",
    "plt.xlabel('False Positive Rate')\n",
    "plt.show()"
   ]
  },
  {
   "cell_type": "markdown",
   "metadata": {},
   "source": [
    "**5.4 DecisionTreeClassifier Model Building.**"
   ]
  },
  {
   "cell_type": "code",
   "execution_count": 24,
   "metadata": {},
   "outputs": [],
   "source": [
    "from sklearn.tree import DecisionTreeClassifier\n",
    "\n",
    "model3 = DecisionTreeClassifier()\n",
    "\n",
    "model3.fit(df_train_x_copy, df_train_y)\n",
    "prediction3 = model3.predict(df_test_x_copy)\n"
   ]
  },
  {
   "cell_type": "code",
   "execution_count": 25,
   "metadata": {},
   "outputs": [
    {
     "name": "stdout",
     "output_type": "stream",
     "text": [
      "Accuracy: 0.981769789603527\n",
      "F1 SCORE: 0.11419928152769901\n",
      "PRECISION SCORE 0.06066693451185215\n",
      "ROC_AUC Score 0.9764219288896506\n"
     ]
    }
   ],
   "source": [
    "from sklearn import metrics\n",
    "\n",
    "print(\"Accuracy:\",metrics.accuracy_score(df_test_y, prediction3))\n",
    "print('F1 SCORE:', f1_score(df_test_y, prediction3))\n",
    "print('PRECISION SCORE',precision_score(df_test_y, prediction3))\n",
    "print('ROC_AUC Score', roc_auc_score(df_test_y, prediction3))"
   ]
  },
  {
   "cell_type": "markdown",
   "metadata": {},
   "source": [
    "**5.4.1 Cross Validation And Best Model Search.**"
   ]
  },
  {
   "cell_type": "code",
   "execution_count": 26,
   "metadata": {},
   "outputs": [
    {
     "name": "stdout",
     "output_type": "stream",
     "text": [
      "0.8191050534405234\n"
     ]
    }
   ],
   "source": [
    "df_train_x_copy,df_train_y = make_classification(n_samples=1000, n_features=20, n_informative=15, n_redundant=5, random_state=1)\n",
    "\n",
    "cv = RepeatedKFold(n_splits=10, n_repeats=3, random_state=1)\n",
    "\n",
    "\n",
    "scores = cross_val_score(model3, df_train_x_copy,df_train_y, scoring='roc_auc', cv=cv, n_jobs=-1)\n",
    "\n",
    "print(scores.mean())"
   ]
  },
  {
   "cell_type": "code",
   "execution_count": 32,
   "metadata": {},
   "outputs": [
    {
     "name": "stdout",
     "output_type": "stream",
     "text": [
      "Best Score: 0.9970498076303945\n",
      "Best parameters of model: {'max_depth': 9, 'min_samples_leaf': 9}\n",
      "Best Estimator : DecisionTreeClassifier(max_depth=9, min_samples_leaf=9)\n"
     ]
    }
   ],
   "source": [
    "from sklearn.model_selection import GridSearchCV\n",
    "\n",
    "tree = DecisionTreeClassifier()\n",
    "parameters={'min_samples_leaf' : range(1,10,2),'max_depth': range(1,10,2)}\n",
    "grid_search3 = GridSearchCV(estimator =  tree, param_grid = parameters, cv = 3, scoring = 'roc_auc', n_jobs = -1)\n",
    "result3 = grid_search3.fit(df_train_x_copy, df_train_y)\n",
    "print('Best Score:',result3.best_score_)\n",
    "print('Best parameters of model:',result3.best_params_)\n",
    "print('Best Estimator :', result3.best_estimator_)"
   ]
  },
  {
   "cell_type": "code",
   "execution_count": 30,
   "metadata": {},
   "outputs": [
    {
     "data": {
      "image/png": "[encoded data removed]",
      "text/plain": [
       "<Figure size 432x288 with 1 Axes>"
      ]
     },
     "metadata": {
      "needs_background": "light"
     },
     "output_type": "display_data"
    }
   ],
   "source": [
    "fpr3, tpr3, threshold3 = metrics.roc_curve(df_test_y, prediction3)\n",
    "roc_auc = metrics.auc(fpr3, tpr3)\n",
    "\n",
    "import matplotlib.pyplot as plt\n",
    "plt.title('Receiver Operating Characteristic')\n",
    "plt.plot(fpr3, tpr3, 'b', label = 'AUC = %0.2f' % roc_auc)\n",
    "plt.legend(loc = 'lower right')\n",
    "plt.plot([0, 1], [0, 1],'r--')\n",
    "plt.xlim([0, 1])\n",
    "plt.ylim([0, 1])\n",
    "plt.ylabel('True Positive Rate')\n",
    "plt.xlabel('False Positive Rate')\n",
    "plt.show()"
   ]
  },
  {
   "cell_type": "markdown",
   "metadata": {},
   "source": [
    "# Conclusion"
   ]
  },
  {
   "cell_type": "markdown",
   "metadata": {},
   "source": [
    "**Based on the evaluation the following model with their respective parameters is best performing.**"
   ]
  },
  {
   "cell_type": "code",
   "execution_count": 285,
   "metadata": {},
   "outputs": [
    {
     "name": "stdout",
     "output_type": "stream",
     "text": [
      "Best Score: 0.9761990396158463\n",
      "Best parameters of model: {'criterion': 'entropy', 'max_depth': 8, 'max_features': 'sqrt', 'n_estimators': 200}\n",
      "Best Estimator : RandomForestClassifier(criterion='entropy', max_depth=8, max_features='sqrt',\n",
      "                       n_estimators=200)\n"
     ]
    }
   ],
   "source": [
    "print('Best Score:',result2.best_score_)\n",
    "print('Best parameters of model:',result2.best_params_)\n",
    "print('Best Estimator :', result2.best_estimator_)\n",
    "\n",
    "final_model = RandomForestClassifier(criterion='entropy', max_depth=8, max_features='sqrt',\n",
    "                       n_estimators=200)"
   ]
  },
  {
   "cell_type": "markdown",
   "metadata": {},
   "source": [
    "**Calling grid_search of best model which will automatically call best parameters onto final test data.**"
   ]
  },
  {
   "cell_type": "markdown",
   "metadata": {},
   "source": [
    "**Calling Best Parameters of Log model onto final test set.**"
   ]
  },
  {
   "cell_type": "code",
   "execution_count": 35,
   "metadata": {},
   "outputs": [
    {
     "name": "stdout",
     "output_type": "stream",
     "text": [
      "Accuracy: 0.9995174928304882\n",
      "None\n",
      "F1 SCORE: 0.7993527508090615\n",
      "PRECISION SCORE 0.8045602605863192\n",
      "ROC_AUC Score 0.8969892322794105\n"
     ]
    }
   ],
   "source": [
    "from sklearn import metrics\n",
    "from sklearn.metrics import f1_score\n",
    "from sklearn.metrics import precision_score\n",
    "pred1 = grid_search.predict(df_test_x_copy)\n",
    "accuracy1 = print(\"Accuracy:\",metrics.accuracy_score(df_test_y, pred1))\n",
    "print(accuracy1)\n",
    "print('F1 SCORE:', f1_score(df_test_y, pred1))\n",
    "print('PRECISION SCORE',precision_score(df_test_y, pred1))\n",
    "print('ROC_AUC Score', roc_auc_score(df_test_y, pred1))\n",
    "\n"
   ]
  },
  {
   "cell_type": "markdown",
   "metadata": {},
   "source": [
    "**Random Forest Classifier**"
   ]
  },
  {
   "cell_type": "code",
   "execution_count": 44,
   "metadata": {},
   "outputs": [
    {
     "name": "stdout",
     "output_type": "stream",
     "text": [
      "Accuracy: 0.9995914253806554\n",
      "None\n",
      "F1 SCORE: 0.8154657293497364\n",
      "PRECISION SCORE 0.8992248062015504\n",
      "ROC_AUC Score 0.8729397069780983\n"
     ]
    }
   ],
   "source": [
    "pred2 = grid_search2.predict(df_test_x_copy)\n",
    "accuracy2 = print(\"Accuracy:\",metrics.accuracy_score(df_test_y, pred2))\n",
    "print(accuracy2)\n",
    "print('F1 SCORE:', f1_score(df_test_y, pred2))\n",
    "print('PRECISION SCORE',precision_score(df_test_y, pred2))\n",
    "print('ROC_AUC Score', roc_auc_score(df_test_y, pred2))\n"
   ]
  },
  {
   "cell_type": "markdown",
   "metadata": {},
   "source": [
    "**Decision Tree Classfier**"
   ]
  },
  {
   "cell_type": "code",
   "execution_count": 33,
   "metadata": {},
   "outputs": [
    {
     "name": "stdout",
     "output_type": "stream",
     "text": [
      "Accuracy: 0.9999455233840874\n",
      "None\n",
      "F1 SCORE: 0.9772727272727273\n",
      "PRECISION SCORE 0.9868852459016394\n",
      "ROC_AUC Score 0.9839150377789703\n"
     ]
    }
   ],
   "source": [
    "pred3 = grid_search3.predict(df_test_x_copy)\n",
    "accuracy3 = print(\"Accuracy:\",metrics.accuracy_score(df_test_y, pred3))\n"
   ]
  }
 ],
 "metadata": {
  "kernelspec": {
   "display_name": "Python 3",
   "language": "python",
   "name": "python3"
  },
  "language_info": {
   "codemirror_mode": {
    "name": "ipython",
    "version": 3
   },
   "file_extension": ".py",
   "mimetype": "text/x-python",
   "name": "python",
   "nbconvert_exporter": "python",
   "pygments_lexer": "ipython3",
   "version": "3.8.5"
  }
 },
 "nbformat": 4,
 "nbformat_minor": 4
}
